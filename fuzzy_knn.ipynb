{
 "cells": [
  {
   "cell_type": "code",
   "execution_count": 10,
   "metadata": {
    "collapsed": true
   },
   "outputs": [],
   "source": [
    "import numpy as np\n",
    "import matplotlib.pyplot as plt\n",
    "%matplotlib inline"
   ]
  },
  {
   "cell_type": "code",
   "execution_count": 11,
   "metadata": {
    "collapsed": true
   },
   "outputs": [],
   "source": [
    "data = np.array([[.8,.8,1], [1,1,1],[1.2,0.8,1], [.8,1.2,1], \\\n",
    "[1.2,1.2,1], [4,3,2], [3.8,2.8,2], [4.2,2.8,2], [3.8,3.2,2], \\\n",
    "[4.2,3.2,2], [4.4,2.8,2], [4.4,3.2,2], [3.2,0.4,3], [3.2,0.7,3], [3.8,0.5,3], \\\n",
    "[3.5,1,3], [4,1,3], [4,7,3]])"
   ]
  },
  {
   "cell_type": "code",
   "execution_count": 12,
   "metadata": {
    "collapsed": true
   },
   "outputs": [],
   "source": [
    "#Shuffling the dataset\n",
    "np.random.shuffle(data)\n",
    "\n",
    "X = data[:,0:2]\n",
    "y = data[:,2]"
   ]
  },
  {
   "cell_type": "code",
   "execution_count": 13,
   "metadata": {},
   "outputs": [
    {
     "data": {
      "text/plain": [
       "<matplotlib.collections.PathCollection at 0x7ff86c946828>"
      ]
     },
     "execution_count": 13,
     "metadata": {},
     "output_type": "execute_result"
    },
    {
     "data": {
      "image/png": "[encoded data removed]",
      "text/plain": [
       "<matplotlib.figure.Figure at 0x7ff86dbbfda0>"
      ]
     },
     "metadata": {},
     "output_type": "display_data"
    }
   ],
   "source": [
    "plt.figure(figsize=(12,8))\n",
    "plt.scatter(X[:,0], X[:,1], c=y)\n",
    "plt.colorbar()\n",
    "example = np.random.randint(low=0, high=5, size=(1,2))\n",
    "plt.scatter(example[0,0],example[0,1], marker='X', s=500)"
   ]
  },
  {
   "cell_type": "code",
   "execution_count": 14,
   "metadata": {
    "collapsed": true
   },
   "outputs": [],
   "source": [
    "distance = ((X - example) ** 2).sum(axis = 1)"
   ]
  },
  {
   "cell_type": "code",
   "execution_count": 15,
   "metadata": {
    "collapsed": true
   },
   "outputs": [],
   "source": [
    "sorted_class = y[distance.argsort()]\n",
    "sorted_distance = np.sort(distance)"
   ]
  },
  {
   "cell_type": "code",
   "execution_count": 16,
   "metadata": {},
   "outputs": [
    {
     "data": {
      "text/plain": [
       "array([  7.88,   7.88,   8.48,   9.  ,   9.28,  10.  ,  10.28,  10.28,\n",
       "        10.88,  11.68,  12.2 ,  13.  ,  15.25,  15.73,  17.8 ,  18.  ,\n",
       "        18.  ,  20.09])"
      ]
     },
     "execution_count": 16,
     "metadata": {},
     "output_type": "execute_result"
    }
   ],
   "source": [
    "sorted_distance"
   ]
  },
  {
   "cell_type": "code",
   "execution_count": 17,
   "metadata": {},
   "outputs": [
    {
     "data": {
      "text/plain": [
       "array([ 1.,  1.,  2.,  1.,  2.,  2.,  1.,  1.,  2.,  2.,  2.,  2.,  3.,\n",
       "        3.,  3.,  3.,  3.,  3.])"
      ]
     },
     "execution_count": 17,
     "metadata": {},
     "output_type": "execute_result"
    }
   ],
   "source": [
    "sorted_class"
   ]
  },
  {
   "cell_type": "markdown",
   "metadata": {},
   "source": [
    "# Method 1"
   ]
  },
  {
   "cell_type": "code",
   "execution_count": 18,
   "metadata": {
    "collapsed": true
   },
   "outputs": [],
   "source": [
    "k = 7\n",
    "no_class = 3\n",
    "m = 2"
   ]
  },
  {
   "cell_type": "code",
   "execution_count": 19,
   "metadata": {
    "collapsed": true
   },
   "outputs": [],
   "source": [
    "target_matrix = np.zeros((no_class,k))\n",
    "for i in range(0,k):\n",
    "    target_matrix[int(sorted_class[i]-1),i] = 1"
   ]
  },
  {
   "cell_type": "code",
   "execution_count": 20,
   "metadata": {},
   "outputs": [
    {
     "data": {
      "text/plain": [
       "array([[ 1.,  1.,  0.,  1.,  0.,  0.,  1.],\n",
       "       [ 0.,  0.,  1.,  0.,  1.,  1.,  0.],\n",
       "       [ 0.,  0.,  0.,  0.,  0.,  0.,  0.]])"
      ]
     },
     "execution_count": 20,
     "metadata": {},
     "output_type": "execute_result"
    }
   ],
   "source": [
    "target_matrix"
   ]
  },
  {
   "cell_type": "code",
   "execution_count": 21,
   "metadata": {},
   "outputs": [
    {
     "name": "stdout",
     "output_type": "stream",
     "text": [
      "[ 0.58663232  0.41336768  0.        ]\n"
     ]
    }
   ],
   "source": [
    "tmp = target_matrix*(1/sorted_distance[:k] ** (m-1))\n",
    "mu = np.sum(tmp, axis = 1)/np.sum((1/sorted_distance[:k] ** (m-1)))\n",
    "print(mu)"
   ]
  },
  {
   "cell_type": "code",
   "execution_count": 22,
   "metadata": {
    "collapsed": true
   },
   "outputs": [],
   "source": [
    "belong = mu.argmax() + 1"
   ]
  },
  {
   "cell_type": "code",
   "execution_count": 23,
   "metadata": {},
   "outputs": [
    {
     "name": "stdout",
     "output_type": "stream",
     "text": [
      "The following example belongs to  1\n"
     ]
    }
   ],
   "source": [
    "print(\"The following example belongs to \", belong)"
   ]
  },
  {
   "cell_type": "markdown",
   "metadata": {},
   "source": [
    "# Method 2"
   ]
  },
  {
   "cell_type": "code",
   "execution_count": 24,
   "metadata": {
    "collapsed": true
   },
   "outputs": [],
   "source": [
    "k = 7\n",
    "no_class = 3\n",
    "m = 10"
   ]
  },
  {
   "cell_type": "code",
   "execution_count": 25,
   "metadata": {
    "collapsed": true
   },
   "outputs": [],
   "source": [
    "target_matrix = np.ones((no_class,k))*.05\n",
    "for i in range(0,k):\n",
    "    target_matrix[int(sorted_class[i]-1),i] = .99"
   ]
  },
  {
   "cell_type": "code",
   "execution_count": 26,
   "metadata": {},
   "outputs": [
    {
     "data": {
      "text/plain": [
       "array([[ 0.99,  0.99,  0.05,  0.99,  0.05,  0.05,  0.99],\n",
       "       [ 0.05,  0.05,  0.99,  0.05,  0.99,  0.99,  0.05],\n",
       "       [ 0.05,  0.05,  0.05,  0.05,  0.05,  0.05,  0.05]])"
      ]
     },
     "execution_count": 26,
     "metadata": {},
     "output_type": "execute_result"
    }
   ],
   "source": [
    "target_matrix"
   ]
  },
  {
   "cell_type": "code",
   "execution_count": 27,
   "metadata": {},
   "outputs": [
    {
     "name": "stdout",
     "output_type": "stream",
     "text": [
      "[ 0.74085127  0.29914873  0.05      ]\n"
     ]
    }
   ],
   "source": [
    "tmp = target_matrix*(1/sorted_distance[:k] ** (m-1))\n",
    "mu = np.sum(tmp, axis = 1)/np.sum((1/sorted_distance[:k] ** (m-1)))\n",
    "print(mu)"
   ]
  },
  {
   "cell_type": "code",
   "execution_count": 28,
   "metadata": {
    "collapsed": true
   },
   "outputs": [],
   "source": [
    "belong = mu.argmax() + 1"
   ]
  },
  {
   "cell_type": "code",
   "execution_count": 29,
   "metadata": {},
   "outputs": [
    {
     "name": "stdout",
     "output_type": "stream",
     "text": [
      "The following example belongs to  1\n"
     ]
    }
   ],
   "source": [
    "print(\"The following example belongs to \", belong)"
   ]
  },
  {
   "cell_type": "markdown",
   "metadata": {},
   "source": [
    "# Method 3"
   ]
  },
  {
   "cell_type": "code",
   "execution_count": 30,
   "metadata": {
    "collapsed": true
   },
   "outputs": [],
   "source": [
    "k = 7\n",
    "no_class = 3\n",
    "m = 10"
   ]
  },
  {
   "cell_type": "code",
   "execution_count": 31,
   "metadata": {},
   "outputs": [],
   "source": [
    "def membership(n, i, j):\n",
    "    if i == j:\n",
    "        return (0.51 + (n/k) * .49)\n",
    "    return ((n/k) * .49)"
   ]
  },
  {
   "cell_type": "code",
   "execution_count": 32,
   "metadata": {},
   "outputs": [
    {
     "data": {
      "text/plain": [
       "array([ 4.,  3.,  0.])"
      ]
     },
     "execution_count": 32,
     "metadata": {},
     "output_type": "execute_result"
    }
   ],
   "source": [
    "votes = np.unique(sorted_class[:k], return_counts=True)\n",
    "votes_class = np.zeros((no_class))\n",
    "class_ = 0\n",
    "for i in votes[0]:\n",
    "    votes_class[int(i-1)] = votes[1][class_]\n",
    "    class_ = class_ + 1\n",
    "votes_class"
   ]
  },
  {
   "cell_type": "code",
   "execution_count": 33,
   "metadata": {},
   "outputs": [],
   "source": [
    "target_matrix = np.ones((no_class,k))\n",
    "for i in range(0,k):\n",
    "    for j in range(0,no_class):\n",
    "        target_matrix[j,i] = membership(votes_class[j], j+1, sorted_class[i])"
   ]
  },
  {
   "cell_type": "code",
   "execution_count": 34,
   "metadata": {},
   "outputs": [
    {
     "data": {
      "text/plain": [
       "array([[ 0.79,  0.79,  0.28,  0.79,  0.28,  0.28,  0.79],\n",
       "       [ 0.21,  0.21,  0.72,  0.21,  0.72,  0.72,  0.21],\n",
       "       [ 0.  ,  0.  ,  0.  ,  0.  ,  0.  ,  0.  ,  0.  ]])"
      ]
     },
     "execution_count": 34,
     "metadata": {},
     "output_type": "execute_result"
    }
   ],
   "source": [
    "target_matrix"
   ]
  },
  {
   "cell_type": "code",
   "execution_count": 35,
   "metadata": {},
   "outputs": [
    {
     "name": "stdout",
     "output_type": "stream",
     "text": [
      "[ 0.65482356  0.34517644  0.        ]\n"
     ]
    }
   ],
   "source": [
    "tmp = target_matrix*(1/sorted_distance[:k] ** (m-1))\n",
    "mu = np.sum(tmp, axis = 1)/np.sum((1/sorted_distance[:k] ** (m-1)))\n",
    "print(mu)"
   ]
  },
  {
   "cell_type": "code",
   "execution_count": 36,
   "metadata": {
    "collapsed": true
   },
   "outputs": [],
   "source": [
    "belong = mu.argmax() + 1"
   ]
  },
  {
   "cell_type": "code",
   "execution_count": 37,
   "metadata": {},
   "outputs": [
    {
     "name": "stdout",
     "output_type": "stream",
     "text": [
      "The following example belongs to  1\n"
     ]
    }
   ],
   "source": [
    "print(\"The following example belongs to \", belong)"
   ]
  }
 ],
 "metadata": {
  "kernelspec": {
   "display_name": "Python 3",
   "language": "python",
   "name": "python3"
  },
  "language_info": {
   "codemirror_mode": {
    "name": "ipython",
    "version": 3
   },
   "file_extension": ".py",
   "mimetype": "text/x-python",
   "name": "python",
   "nbconvert_exporter": "python",
   "pygments_lexer": "ipython3",
   "version": "3.6.3"
  }
 },
 "nbformat": 4,
 "nbformat_minor": 2
}
