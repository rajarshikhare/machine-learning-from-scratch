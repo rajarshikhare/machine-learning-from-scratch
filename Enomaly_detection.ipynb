{
 "cells": [
  {
   "cell_type": "markdown",
   "metadata": {},
   "source": [
    "# Anomaly Detection"
   ]
  },
  {
   "cell_type": "code",
   "execution_count": 191,
   "metadata": {
    "collapsed": true
   },
   "outputs": [],
   "source": [
    "import numpy as np\n",
    "from scipy.io import loadmat\n",
    "import seaborn as sns\n",
    "%matplotlib inline"
   ]
  },
  {
   "cell_type": "code",
   "execution_count": 192,
   "metadata": {},
   "outputs": [],
   "source": [
    "data = loadmat('ex8data1.mat')"
   ]
  },
  {
   "cell_type": "code",
   "execution_count": 193,
   "metadata": {
    "collapsed": true
   },
   "outputs": [],
   "source": [
    "X = data['X']\n",
    "Xval = data['Xval']\n",
    "Yval = data['yval']"
   ]
  },
  {
   "cell_type": "markdown",
   "metadata": {},
   "source": [
    "# As we can see it looks like a gaussian distrbtuion"
   ]
  },
  {
   "cell_type": "code",
   "execution_count": 194,
   "metadata": {},
   "outputs": [
    {
     "data": {
      "image/png": "[encoded data removed]",
      "text/plain": [
       "<matplotlib.figure.Figure at 0x1ea4231a7f0>"
      ]
     },
     "metadata": {},
     "output_type": "display_data"
    }
   ],
   "source": [
    "j = sns.jointplot(X1[:,0], X1[:,1], size=8)"
   ]
  },
  {
   "cell_type": "code",
   "execution_count": 215,
   "metadata": {},
   "outputs": [],
   "source": [
    "def estimateGaussian(X):\n",
    "    mean_X = np.sum(X, axis = 0)/len(X)\n",
    "    std_X_2 = np.sum(np.square(X - mean), axis = 0)/len(X)\n",
    "    return [mean_X, std_X_2]"
   ]
  },
  {
   "cell_type": "code",
   "execution_count": 216,
   "metadata": {},
   "outputs": [],
   "source": [
    "[mu, sigma2] = estimateGaussian(X)"
   ]
  },
  {
   "cell_type": "code",
   "execution_count": 232,
   "metadata": {},
   "outputs": [],
   "source": [
    "def select_Threshold(Pval, Yval):\n",
    "    best_epsilon = 0\n",
    "    best_F1 = 0\n",
    "    move = (pval.max() - pval.min())/1000\n",
    "    \n",
    "    for epsilon in np.arange(Pval.min(), Pval.max(), move):\n",
    "        pred = (Pval < epsilon).astype(float)\n",
    "        \n",
    "        tp = np.sum(np.logical_and(pred == 1, Yval == 1).astype(float))\n",
    "        fp = np.sum(np.logical_and(pred == 1, Yval == 0).astype(float))\n",
    "        fn = np.sum(np.logical_and(pred == 0, Yval == 1).astype(float))\n",
    "        print(tp)\n",
    "        print(fp)\n",
    "        print(fn)\n",
    "        \n",
    "        prec = tp/(tp + fp)\n",
    "        rec = tp/(tp + fn)\n",
    "        F1 = (2 * prec * rec)/ (prec + rec)\n",
    "        \n",
    "        if F1 > best_F1:\n",
    "            best_F1 = F1\n",
    "            best_epsilon = epsilon\n",
    "        \n",
    "        return best_epsilon\n",
    "        "
   ]
  },
  {
   "cell_type": "code",
   "execution_count": null,
   "metadata": {},
   "outputs": [],
   "source": [
    "def prob(X, mu, sigma2):\n",
    "    "
   ]
  },
  {
   "cell_type": "code",
   "execution_count": 233,
   "metadata": {
    "collapsed": true
   },
   "outputs": [],
   "source": [
    "from scipy import stats\n",
    "dist = stats.norm(mu, sigma2)\n",
    "Pval = dist.pdf(X)\n",
    "Pval = np.multiply(Pval[:,0], Pval[:,1])"
   ]
  },
  {
   "cell_type": "code",
   "execution_count": 234,
   "metadata": {},
   "outputs": [
    {
     "name": "stdout",
     "output_type": "stream",
     "text": [
      "0.0\n",
      "0.0\n",
      "2763.0\n"
     ]
    },
    {
     "name": "stderr",
     "output_type": "stream",
     "text": [
      "C:\\ProgramData\\Anaconda3\\lib\\site-packages\\ipykernel_launcher.py:16: RuntimeWarning: invalid value encountered in double_scalars\n",
      "  app.launch_new_instance()\n"
     ]
    },
    {
     "data": {
      "text/plain": [
       "0"
      ]
     },
     "execution_count": 234,
     "metadata": {},
     "output_type": "execute_result"
    }
   ],
   "source": [
    "epsilon = select_Threshold(Pval, Yval)\n",
    "epsilon"
   ]
  },
  {
   "cell_type": "code",
   "execution_count": 212,
   "metadata": {},
   "outputs": [
    {
     "data": {
      "text/plain": [
       "0"
      ]
     },
     "execution_count": 212,
     "metadata": {},
     "output_type": "execute_result"
    }
   ],
   "source": [
    "epsilon"
   ]
  },
  {
   "cell_type": "code",
   "execution_count": 231,
   "metadata": {},
   "outputs": [
    {
     "data": {
      "text/plain": [
       "array([  4.24164083e-02,   3.63579944e-02,   4.47711203e-02,\n",
       "         3.64208163e-02,   4.16430605e-02,   3.27638353e-02,\n",
       "         3.57802616e-02,   3.07797268e-02,   2.11843307e-02,\n",
       "         3.71487603e-02,   2.48720891e-02,   4.90565020e-02,\n",
       "         4.45064395e-02,   4.39541390e-02,   3.05948176e-02,\n",
       "         4.83725753e-02,   5.01024125e-02,   4.98480946e-02,\n",
       "         4.36753935e-02,   1.44681601e-02,   4.60899633e-02,\n",
       "         5.02936616e-02,   3.06543536e-02,   4.98825074e-02,\n",
       "         3.27275419e-02,   2.45609662e-02,   4.72455600e-02,\n",
       "         4.62546819e-02,   4.78440139e-02,   4.63344417e-02,\n",
       "         3.68685159e-02,   5.01863246e-02,   4.13777472e-02,\n",
       "         4.05916541e-02,   2.24990988e-02,   3.44759408e-02,\n",
       "         3.02849828e-02,   4.81746171e-02,   4.48479005e-02,\n",
       "         4.91515249e-02,   4.17808251e-02,   4.30221520e-02,\n",
       "         4.88134299e-02,   4.94121544e-02,   4.38496318e-02,\n",
       "         3.96737200e-02,   2.93960245e-02,   4.39892583e-02,\n",
       "         4.66902252e-02,   3.02770964e-02,   4.55032650e-02,\n",
       "         4.60002929e-02,   4.93706632e-02,   5.07526980e-02,\n",
       "         4.60851050e-02,   4.89652955e-02,   4.97574183e-02,\n",
       "         5.06206849e-02,   4.70675700e-02,   4.04853943e-02,\n",
       "         4.38164489e-02,   5.06352663e-02,   2.35625630e-02,\n",
       "         3.12878909e-02,   2.91028416e-02,   4.44392104e-02,\n",
       "         2.87611598e-02,   4.78340519e-02,   2.40541118e-02,\n",
       "         1.35610638e-02,   4.85945850e-02,   1.97223167e-02,\n",
       "         4.67881740e-02,   3.53230243e-02,   4.83414225e-02,\n",
       "         4.98597937e-02,   4.40101920e-02,   5.05041746e-02,\n",
       "         2.81442922e-02,   4.49995341e-02,   4.99480239e-02,\n",
       "         3.67639718e-02,   4.92222244e-02,   3.77105741e-02,\n",
       "         3.57690580e-02,   4.71975417e-02,   4.65979833e-02,\n",
       "         4.49304027e-02,   4.96810450e-02,   4.71633253e-02,\n",
       "         4.41776019e-02,   4.63880944e-02,   5.03522520e-02,\n",
       "         3.20453689e-02,   4.86011173e-02,   2.99752716e-02,\n",
       "         2.77912931e-02,   4.22074960e-02,   3.34266076e-02,\n",
       "         4.87343411e-02,   3.08764559e-02,   3.79761702e-02,\n",
       "         3.78593431e-02,   3.65402264e-02,   3.75577959e-02,\n",
       "         4.91902995e-02,   2.88272130e-02,   4.38378342e-02,\n",
       "         2.60811581e-02,   1.49439065e-02,   4.82019881e-02,\n",
       "         2.65074493e-02,   4.17110323e-02,   2.18250046e-02,\n",
       "         1.28270220e-02,   2.97668208e-02,   4.03881885e-02,\n",
       "         3.36038266e-02,   5.02940426e-02,   2.18304365e-02,\n",
       "         3.96812934e-02,   4.70398363e-02,   5.00409784e-02,\n",
       "         4.90993583e-02,   3.11952518e-02,   4.32861492e-02,\n",
       "         3.69192463e-02,   4.43254980e-02,   2.69824053e-02,\n",
       "         5.03470839e-02,   4.28287489e-02,   2.94648820e-02,\n",
       "         4.59189587e-02,   3.88038520e-02,   2.95194789e-02,\n",
       "         4.95882503e-02,   4.45154482e-02,   4.37180931e-02,\n",
       "         4.57772863e-02,   4.08455869e-02,   3.57699329e-02,\n",
       "         5.06207488e-02,   1.94623012e-02,   3.56265323e-02,\n",
       "         4.86225843e-02,   2.12707882e-02,   3.88971843e-02,\n",
       "         1.00398823e-02,   4.02602562e-02,   5.06744614e-02,\n",
       "         3.54462873e-02,   2.72365013e-02,   4.19271914e-02,\n",
       "         4.87760398e-02,   3.51108316e-02,   3.94433154e-02,\n",
       "         5.03469622e-02,   3.68677489e-02,   4.18047153e-02,\n",
       "         5.02654872e-02,   4.84304843e-02,   2.85642323e-02,\n",
       "         3.44592880e-02,   4.86604405e-02,   4.41516186e-02,\n",
       "         3.31922237e-02,   4.76642184e-02,   4.95788159e-02,\n",
       "         2.33599243e-02,   4.48388949e-02,   7.17792209e-03,\n",
       "         5.04795440e-02,   3.21743553e-02,   4.10751992e-02,\n",
       "         3.67534438e-02,   4.42115624e-02,   4.68476168e-02,\n",
       "         5.05953001e-02,   3.73212639e-02,   3.11393570e-02,\n",
       "         4.94007156e-02,   4.68126856e-02,   3.41400950e-02,\n",
       "         4.05146244e-02,   4.84534499e-02,   3.99781074e-02,\n",
       "         4.28894500e-02,   3.66303133e-02,   4.33347864e-02,\n",
       "         4.65573865e-02,   3.42822084e-02,   2.94155035e-02,\n",
       "         4.38845116e-02,   4.24594569e-02,   3.97792260e-02,\n",
       "         3.45730160e-02,   4.51661800e-02,   4.93120658e-02,\n",
       "         4.29826413e-02,   1.28478747e-02,   3.35360248e-02,\n",
       "         4.41507012e-02,   4.70550863e-02,   3.57470940e-02,\n",
       "         4.85641152e-02,   4.37135469e-02,   4.27599076e-02,\n",
       "         2.33242769e-02,   4.80463473e-02,   4.51633037e-02,\n",
       "         3.53944955e-02,   4.31013973e-02,   3.90344708e-02,\n",
       "         3.12505914e-02,   4.86801215e-02,   4.42085266e-02,\n",
       "         4.29979754e-02,   4.25378543e-02,   3.36995988e-02,\n",
       "         4.74737437e-02,   4.78328117e-02,   4.72603238e-02,\n",
       "         2.14522592e-02,   2.73167438e-02,   3.38316295e-02,\n",
       "         4.29610153e-02,   2.19561236e-02,   3.93395592e-02,\n",
       "         3.46030189e-02,   4.78113667e-02,   3.68076445e-02,\n",
       "         2.62845568e-02,   4.97738092e-02,   4.24156743e-02,\n",
       "         4.43055628e-02,   4.60200695e-02,   3.88045960e-02,\n",
       "         4.92175266e-02,   3.64817917e-02,   3.20848788e-02,\n",
       "         3.02356861e-02,   1.57488955e-02,   4.88725313e-02,\n",
       "         4.24201015e-02,   4.35797304e-02,   3.87166969e-02,\n",
       "         4.47151540e-02,   3.36959186e-02,   4.44312651e-02,\n",
       "         1.11720734e-02,   4.18653906e-02,   2.87809032e-02,\n",
       "         3.63994407e-02,   3.05543109e-02,   4.32926128e-02,\n",
       "         4.87943248e-02,   3.79743323e-02,   5.00565420e-02,\n",
       "         3.75786857e-02,   5.00887385e-02,   3.64765970e-02,\n",
       "         3.30388652e-02,   4.60885411e-02,   4.28085675e-02,\n",
       "         4.22948443e-02,   4.48848604e-02,   4.25896620e-02,\n",
       "         4.46104411e-02,   3.85465028e-02,   4.36531454e-02,\n",
       "         3.73060603e-02,   4.89055454e-02,   4.98855761e-02,\n",
       "         4.19181891e-02,   3.40570538e-02,   2.35374883e-02,\n",
       "         3.18192770e-02,   2.96110908e-02,   3.97387456e-02,\n",
       "         2.40985310e-02,   4.65215372e-02,   2.89283094e-02,\n",
       "         3.92525406e-02,   4.28554095e-02,   4.60220725e-02,\n",
       "         4.31347176e-02,   4.22381745e-02,   4.52318722e-02,\n",
       "         4.10605133e-02,   5.06555012e-02,   4.70266538e-02,\n",
       "         5.07773913e-02,   4.92181653e-02,   4.23100692e-02,\n",
       "         4.47752077e-02,   4.47828418e-02,   4.99067039e-02,\n",
       "         4.73331166e-02,   4.46280812e-02,   1.68001194e-02,\n",
       "         1.84358215e-04,   1.50376851e-14,   3.24579499e-02,\n",
       "         1.61688392e-05,   1.18766147e-07,   8.56867426e-04,\n",
       "         3.50005990e-14])"
      ]
     },
     "execution_count": 231,
     "metadata": {},
     "output_type": "execute_result"
    }
   ],
   "source": [
    "Pval"
   ]
  },
  {
   "cell_type": "code",
   "execution_count": null,
   "metadata": {
    "collapsed": true
   },
   "outputs": [],
   "source": []
  }
 ],
 "metadata": {
  "kernelspec": {
   "display_name": "Python 3",
   "language": "python",
   "name": "python3"
  },
  "language_info": {
   "codemirror_mode": {
    "name": "ipython",
    "version": 3
   },
   "file_extension": ".py",
   "mimetype": "text/x-python",
   "name": "python",
   "nbconvert_exporter": "python",
   "pygments_lexer": "ipython3",
   "version": "3.6.2"
  }
 },
 "nbformat": 4,
 "nbformat_minor": 2
}
