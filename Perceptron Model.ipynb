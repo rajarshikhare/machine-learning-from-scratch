{
 "cells": [
  {
   "cell_type": "code",
   "execution_count": 1,
   "metadata": {},
   "outputs": [],
   "source": [
    "import numpy as np\n",
    "import matplotlib.pyplot as plt\n",
    "%matplotlib inline"
   ]
  },
  {
   "cell_type": "code",
   "execution_count": 2,
   "metadata": {},
   "outputs": [],
   "source": [
    "X = np.array([[1, 1, 1], [-1, 1, 1], [1, -1, 1], [1, 1, -1]])\n",
    "T = np.array([1, -1, -1, -1])"
   ]
  },
  {
   "cell_type": "code",
   "execution_count": 3,
   "metadata": {},
   "outputs": [],
   "source": [
    "def addBias(X):\n",
    "    return np.insert(X, 0, 1, axis=1)"
   ]
  },
  {
   "cell_type": "code",
   "execution_count": 4,
   "metadata": {},
   "outputs": [],
   "source": [
    "def activation(yin, theta):\n",
    "    if theta < yin:\n",
    "        return 1\n",
    "    elif 0 <= yin <= theta:\n",
    "        return 0\n",
    "    else:\n",
    "        return -1"
   ]
  },
  {
   "cell_type": "code",
   "execution_count": 5,
   "metadata": {},
   "outputs": [],
   "source": [
    "def activation_mat(yin, theta):\n",
    "    act = []\n",
    "    for i in range(0, len(yin)):\n",
    "        act.append(activation(yin[i], theta))\n",
    "        \n",
    "    return act"
   ]
  },
  {
   "cell_type": "code",
   "execution_count": 6,
   "metadata": {},
   "outputs": [],
   "source": [
    "def getError(X, T, W, theta):\n",
    "    tmp = (X * W).sum(axis=1)\n",
    "    tmp = activation_mat(tmp, theta)\n",
    "    tmp = (tmp != T).sum()\n",
    "    return tmp"
   ]
  },
  {
   "cell_type": "code",
   "execution_count": 7,
   "metadata": {},
   "outputs": [],
   "source": [
    "def train(X, T, W, epoch, learning_rate, theta):\n",
    "    \n",
    "    error = []\n",
    "    for i in range(0, epoch):\n",
    "        for j in range(0, len(X)):\n",
    "            yin = (W * X[j]).sum()\n",
    "            yout = activation(yin, theta)\n",
    "            \n",
    "            if yout != T[j]:\n",
    "                W = W + learning_rate*T[j]*X[j]\n",
    "        \n",
    "        e = getError(X, T, W, theta)\n",
    "        error.append(e)\n",
    "        \n",
    "        if e == 0:\n",
    "            return W, error, ('Converged with epoch : ' + str(i))\n",
    "        \n",
    "    return W, error, 'Epoch reached limit : ' + str(epoch)"
   ]
  },
  {
   "cell_type": "code",
   "execution_count": 8,
   "metadata": {},
   "outputs": [],
   "source": [
    "X = addBias(X)\n",
    "W = np.zeros(X.shape[1])"
   ]
  },
  {
   "cell_type": "code",
   "execution_count": 9,
   "metadata": {},
   "outputs": [
    {
     "name": "stdout",
     "output_type": "stream",
     "text": [
      "Converged with epoch : 4\n",
      "[-4.  2.  2.  2.]\n"
     ]
    }
   ],
   "source": [
    "theta = .2\n",
    "learning_rate = 1\n",
    "epoch = 10\n",
    "W , error, message = train(X, T, W, epoch, learning_rate, theta)\n",
    "print(message)\n",
    "print(W)"
   ]
  },
  {
   "cell_type": "code",
   "execution_count": 10,
   "metadata": {},
   "outputs": [
    {
     "data": {
      "text/plain": [
       "[<matplotlib.lines.Line2D at 0x7fce61c06278>]"
      ]
     },
     "execution_count": 10,
     "metadata": {},
     "output_type": "execute_result"
    },
    {
     "data": {
      "image/png": "[encoded data removed]",
      "text/plain": [
       "<Figure size 576x432 with 1 Axes>"
      ]
     },
     "metadata": {},
     "output_type": "display_data"
    }
   ],
   "source": [
    "plt.figure(figsize=(8,6))\n",
    "plt.plot(error)"
   ]
  }
 ],
 "metadata": {
  "kernelspec": {
   "display_name": "Python 3",
   "language": "python",
   "name": "python3"
  },
  "language_info": {
   "codemirror_mode": {
    "name": "ipython",
    "version": 3
   },
   "file_extension": ".py",
   "mimetype": "text/x-python",
   "name": "python",
   "nbconvert_exporter": "python",
   "pygments_lexer": "ipython3",
   "version": "3.6.6"
  }
 },
 "nbformat": 4,
 "nbformat_minor": 2
}
