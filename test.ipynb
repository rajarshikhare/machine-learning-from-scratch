{
 "cells": [
  {
   "cell_type": "markdown",
   "metadata": {},
   "source": [
    "# K nearest neighbour"
   ]
  },
  {
   "cell_type": "code",
   "execution_count": 115,
   "metadata": {
    "collapsed": true
   },
   "outputs": [],
   "source": [
    "import numpy as np\n",
    "import pandas as pd\n",
    "import random\n",
    "import matplotlib.pyplot as plt\n",
    "%matplotlib inline"
   ]
  },
  {
   "cell_type": "code",
   "execution_count": 117,
   "metadata": {},
   "outputs": [
    {
     "data": {
      "text/html": [
       "<div>\n",
       "<style>\n",
       "    .dataframe thead tr:only-child th {\n",
       "        text-align: right;\n",
       "    }\n",
       "\n",
       "    .dataframe thead th {\n",
       "        text-align: left;\n",
       "    }\n",
       "\n",
       "    .dataframe tbody tr th {\n",
       "        vertical-align: top;\n",
       "    }\n",
       "</style>\n",
       "<table border=\"1\" class=\"dataframe\">\n",
       "  <thead>\n",
       "    <tr style=\"text-align: right;\">\n",
       "      <th></th>\n",
       "      <th>Id</th>\n",
       "      <th>SepalLengthCm</th>\n",
       "      <th>SepalWidthCm</th>\n",
       "      <th>PetalLengthCm</th>\n",
       "      <th>PetalWidthCm</th>\n",
       "      <th>Species</th>\n",
       "    </tr>\n",
       "  </thead>\n",
       "  <tbody>\n",
       "    <tr>\n",
       "      <th>77</th>\n",
       "      <td>78</td>\n",
       "      <td>6.7</td>\n",
       "      <td>3.0</td>\n",
       "      <td>5.0</td>\n",
       "      <td>1.7</td>\n",
       "      <td>Iris-versicolor</td>\n",
       "    </tr>\n",
       "    <tr>\n",
       "      <th>25</th>\n",
       "      <td>26</td>\n",
       "      <td>5.0</td>\n",
       "      <td>3.0</td>\n",
       "      <td>1.6</td>\n",
       "      <td>0.2</td>\n",
       "      <td>Iris-setosa</td>\n",
       "    </tr>\n",
       "    <tr>\n",
       "      <th>26</th>\n",
       "      <td>27</td>\n",
       "      <td>5.0</td>\n",
       "      <td>3.4</td>\n",
       "      <td>1.6</td>\n",
       "      <td>0.4</td>\n",
       "      <td>Iris-setosa</td>\n",
       "    </tr>\n",
       "    <tr>\n",
       "      <th>72</th>\n",
       "      <td>73</td>\n",
       "      <td>6.3</td>\n",
       "      <td>2.5</td>\n",
       "      <td>4.9</td>\n",
       "      <td>1.5</td>\n",
       "      <td>Iris-versicolor</td>\n",
       "    </tr>\n",
       "    <tr>\n",
       "      <th>118</th>\n",
       "      <td>119</td>\n",
       "      <td>7.7</td>\n",
       "      <td>2.6</td>\n",
       "      <td>6.9</td>\n",
       "      <td>2.3</td>\n",
       "      <td>Iris-virginica</td>\n",
       "    </tr>\n",
       "  </tbody>\n",
       "</table>\n",
       "</div>"
      ],
      "text/plain": [
       "      Id  SepalLengthCm  SepalWidthCm  PetalLengthCm  PetalWidthCm  \\\n",
       "77    78            6.7           3.0            5.0           1.7   \n",
       "25    26            5.0           3.0            1.6           0.2   \n",
       "26    27            5.0           3.4            1.6           0.4   \n",
       "72    73            6.3           2.5            4.9           1.5   \n",
       "118  119            7.7           2.6            6.9           2.3   \n",
       "\n",
       "             Species  \n",
       "77   Iris-versicolor  \n",
       "25       Iris-setosa  \n",
       "26       Iris-setosa  \n",
       "72   Iris-versicolor  \n",
       "118   Iris-virginica  "
      ]
     },
     "execution_count": 117,
     "metadata": {},
     "output_type": "execute_result"
    }
   ],
   "source": [
    "data = pd.read_csv('data/Iris.csv')\n",
    "data = data.sample(frac=1)\n",
    "data.head()"
   ]
  },
  {
   "cell_type": "code",
   "execution_count": 119,
   "metadata": {
    "collapsed": true
   },
   "outputs": [],
   "source": [
    "X = data.values[:,1:5]\n",
    "y = data.values[:,5]"
   ]
  },
  {
   "cell_type": "code",
   "execution_count": 120,
   "metadata": {},
   "outputs": [
    {
     "data": {
      "text/plain": [
       "(150, 4)"
      ]
     },
     "execution_count": 120,
     "metadata": {},
     "output_type": "execute_result"
    }
   ],
   "source": [
    "X.shape"
   ]
  },
  {
   "cell_type": "markdown",
   "metadata": {},
   "source": [
    "# Applying 3-fold cross validation with K values (1,8)"
   ]
  },
  {
   "cell_type": "code",
   "execution_count": 125,
   "metadata": {},
   "outputs": [
    {
     "name": "stdout",
     "output_type": "stream",
     "text": [
      "Accuracy for  k = 1 is 0.96\n",
      "Accuracy for  k = 2 is 0.9466666666666667\n",
      "Accuracy for  k = 3 is 0.9666666666666666\n",
      "Accuracy for  k = 4 is 0.9666666666666666\n",
      "Accuracy for  k = 5 is 0.9666666666666666\n",
      "Accuracy for  k = 6 is 0.9666666666666666\n",
      "Accuracy for  k = 7 is 0.9800000000000001\n",
      "Accuracy for  k = 8 is 0.9800000000000001\n",
      "Accuracy for  k = 9 is 0.9733333333333334\n",
      "Accuracy for  k = 10 is 0.9800000000000001\n",
      "Accuracy for  k = 11 is 0.9733333333333334\n",
      "Accuracy for  k = 12 is 0.9733333333333334\n",
      "Accuracy for  k = 13 is 0.9733333333333334\n",
      "Accuracy for  k = 14 is 0.9733333333333334\n",
      "Accuracy for  k = 15 is 0.9800000000000001\n",
      "Accuracy for  k = 16 is 0.9666666666666668\n",
      "Accuracy for  k = 17 is 0.9733333333333334\n",
      "Accuracy for  k = 18 is 0.9733333333333334\n",
      "Accuracy for  k = 19 is 0.9733333333333334\n",
      "Accuracy for  k = 20 is 0.9800000000000001\n",
      "Accuracy for  k = 21 is 0.9800000000000001\n",
      "Accuracy for  k = 22 is 0.9733333333333334\n",
      "Accuracy for  k = 23 is 0.9733333333333334\n",
      "Accuracy for  k = 24 is 0.9666666666666666\n",
      "Accuracy for  k = 25 is 0.9666666666666666\n",
      "Accuracy for  k = 26 is 0.9466666666666667\n",
      "Accuracy for  k = 27 is 0.9533333333333334\n",
      "Accuracy for  k = 28 is 0.9466666666666667\n",
      "Accuracy for  k = 29 is 0.9466666666666667\n",
      "Accuracy for  k = 30 is 0.9466666666666667\n",
      "Accuracy for  k = 31 is 0.96\n",
      "Accuracy for  k = 32 is 0.96\n",
      "Accuracy for  k = 33 is 0.96\n",
      "Accuracy for  k = 34 is 0.96\n",
      "Accuracy for  k = 35 is 0.96\n",
      "Accuracy for  k = 36 is 0.9533333333333334\n",
      "Accuracy for  k = 37 is 0.9666666666666668\n",
      "Accuracy for  k = 38 is 0.9533333333333334\n",
      "Accuracy for  k = 39 is 0.9533333333333334\n",
      "Accuracy for  k = 40 is 0.9533333333333334\n",
      "Accuracy for  k = 41 is 0.96\n",
      "Accuracy for  k = 42 is 0.96\n",
      "Accuracy for  k = 43 is 0.96\n",
      "Accuracy for  k = 44 is 0.9533333333333334\n",
      "Accuracy for  k = 45 is 0.9533333333333334\n",
      "Accuracy for  k = 46 is 0.9466666666666667\n",
      "Accuracy for  k = 47 is 0.9533333333333334\n",
      "Accuracy for  k = 48 is 0.9533333333333334\n",
      "Accuracy for  k = 49 is 0.9466666666666667\n"
     ]
    }
   ],
   "source": [
    "fold = 10\n",
    "K_range = 50\n",
    "length = len(X)\n",
    "partition = int(length/fold)\n",
    "accuracies = np.zeros(K_range)\n",
    "for k in range(1,K_range):\n",
    "    K = k\n",
    "    sum_acc = 0\n",
    "    for i in range(0,length, partition):\n",
    "        index = np.ones((length), bool)\n",
    "        index[i:(i+partition)] = False\n",
    "        X_cv = X[np.logical_not(index), :]\n",
    "        y_cv = y[np.logical_not(index)]\n",
    "        X_train = X[index]\n",
    "        y_train = y[index]\n",
    "        sum = 0\n",
    "\n",
    "        for j in range(0, partition):\n",
    "            example = X_cv[j,:]\n",
    "            distance = np.sum(np.square(X_train - example), axis = 1)\n",
    "\n",
    "            sorted_class = y_train[distance.argsort()]\n",
    "            sorted_dist = np.sort(distance)\n",
    "\n",
    "            votes = np.unique(sorted_class[:K], return_counts=True)\n",
    "            temp = np.array(votes[1])\n",
    "            max_count_index = temp.argmax()\n",
    "            belong = votes[0][max_count_index]\n",
    "            \n",
    "\n",
    "            if(belong == y_cv[j]):\n",
    "                sum = sum + 1\n",
    "\n",
    "        sum_acc = sum_acc + sum/(partition)\n",
    "    result = sum_acc/(length/partition)\n",
    "    print(\"Accuracy for  k =\",K,\"is\",result)\n",
    "    accuracies[k-1] = result  "
   ]
  },
  {
   "cell_type": "code",
   "execution_count": 126,
   "metadata": {
    "scrolled": false
   },
   "outputs": [
    {
     "data": {
      "text/plain": [
       "<matplotlib.legend.Legend at 0x7f06b82c9f60>"
      ]
     },
     "execution_count": 126,
     "metadata": {},
     "output_type": "execute_result"
    },
    {
     "data": {
      "image/png": "[encoded data removed]",
      "text/plain": [
       "<matplotlib.figure.Figure at 0x7f06b82c9898>"
      ]
     },
     "metadata": {},
     "output_type": "display_data"
    }
   ],
   "source": [
    "plt.figure(figsize=(12,8))\n",
    "plt.plot(accuracies)\n",
    "plt.legend(['Validation accuracy'])"
   ]
  },
  {
   "cell_type": "markdown",
   "metadata": {},
   "source": [
    "# Lets solve with an Example taking best K value"
   ]
  },
  {
   "cell_type": "code",
   "execution_count": 123,
   "metadata": {
    "collapsed": true
   },
   "outputs": [],
   "source": [
    "best_k = accuracies.argmax() + 1\n",
    "ex_index = random.randint(1,100)\n",
    "example = np.array(ex_index)"
   ]
  },
  {
   "cell_type": "code",
   "execution_count": 127,
   "metadata": {
    "scrolled": true
   },
   "outputs": [
    {
     "name": "stdout",
     "output_type": "stream",
     "text": [
      "The Example belongs to class : Iris-virginica ,Considering K as 9 Original was : Iris-virginica\n"
     ]
    }
   ],
   "source": [
    "distance = np.sum(np.square(X - example), axis = 1)\n",
    "K = best_k\n",
    "sorted_class = y[distance.argsort()]\n",
    "sorted_dist = np.sort(distance)\n",
    "votes = np.unique(sorted_class[:K], return_counts=True)\n",
    "temp = np.array(votes[1])\n",
    "max_count_index = temp.argmax()\n",
    "belong = votes[0][max_count_index]\n",
    "print(\"The Example belongs to class :\",belong, \",Considering K as\", K, \"Original was :\",y[ex_index])"
   ]
  }
 ],
 "metadata": {
  "kernelspec": {
   "display_name": "Python 3",
   "language": "python",
   "name": "python3"
  },
  "language_info": {
   "codemirror_mode": {
    "name": "ipython",
    "version": 3
   },
   "file_extension": ".py",
   "mimetype": "text/x-python",
   "name": "python",
   "nbconvert_exporter": "python",
   "pygments_lexer": "ipython3",
   "version": "3.6.3"
  }
 },
 "nbformat": 4,
 "nbformat_minor": 2
}
