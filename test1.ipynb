{
 "cells": [
  {
   "cell_type": "markdown",
   "metadata": {},
   "source": [
    "# K nearest neighbour"
   ]
  },
  {
   "cell_type": "code",
   "execution_count": 1,
   "metadata": {
    "collapsed": true
   },
   "outputs": [],
   "source": [
    "import numpy as np\n",
    "import matplotlib.pyplot as plt\n",
    "import math\n",
    "%matplotlib inline"
   ]
  },
  {
   "cell_type": "code",
   "execution_count": 27,
   "metadata": {
    "collapsed": true
   },
   "outputs": [],
   "source": [
    "data = np.array([[.8,.8,1], [1,1,1],[1.2,0.8,1], [.8,1.2,1], [1.2,1.2,1], [4,3,2], [3.8,2.8,2], [4.2,2.8,2], [3.8,3.2,2], [4.2,3.2,2], [4.4,2.8,2], [4.4,3.2,2], [3.2,0.4,3], [3.2,0.7,3], [3.8,0.5,3], [3.5,1,3], [4,1,3], [4,7,3]])"
   ]
  },
  {
   "cell_type": "code",
   "execution_count": 28,
   "metadata": {
    "collapsed": true
   },
   "outputs": [],
   "source": [
    "#Shuffling the dataset\n",
    "np.random.shuffle(data)"
   ]
  },
  {
   "cell_type": "code",
   "execution_count": 29,
   "metadata": {
    "collapsed": true
   },
   "outputs": [],
   "source": [
    "X = data[:,0:2]\n",
    "y = data[:,2]"
   ]
  },
  {
   "cell_type": "code",
   "execution_count": 30,
   "metadata": {},
   "outputs": [
    {
     "data": {
      "text/plain": [
       "<matplotlib.colorbar.Colorbar at 0x7f7127b887f0>"
      ]
     },
     "execution_count": 30,
     "metadata": {},
     "output_type": "execute_result"
    },
    {
     "data": {
      "image/png": "[encoded data removed]",
      "text/plain": [
       "<matplotlib.figure.Figure at 0x7f7127e56b38>"
      ]
     },
     "metadata": {},
     "output_type": "display_data"
    }
   ],
   "source": [
    "plt.figure(figsize=(12,8))\n",
    "plt.scatter(X[:,0], X[:,1], c=y)\n",
    "plt.colorbar()"
   ]
  },
  {
   "cell_type": "markdown",
   "metadata": {},
   "source": [
    "# Applying 3-fold cross validation with K values (1,8)"
   ]
  },
  {
   "cell_type": "code",
   "execution_count": 33,
   "metadata": {},
   "outputs": [
    {
     "name": "stdout",
     "output_type": "stream",
     "text": [
      "Ac 0.3333333333333333\n",
      "Ac 0.3333333333333333\n",
      "Ac 0.3333333333333333\n",
      "Ac 0.3333333333333333\n",
      "Ac 0.38888888888888884\n",
      "Ac 0.38888888888888884\n",
      "Ac 0.38888888888888884\n"
     ]
    }
   ],
   "source": [
    "fold = 3\n",
    "length = len(X)\n",
    "partition = 6\n",
    "accuracies = np.zeros(7)\n",
    "for k in range(1,8):\n",
    "    K = k\n",
    "    sum_acc = 0\n",
    "    for i in range(0,length, partition):\n",
    "        X_cv = np.zeros((partition, 2))\n",
    "        y_cv = np.zeros((partition, 1))\n",
    "        X_train = np.zeros((length - partition, 2))\n",
    "        y_train = np.zeros((length - partition, 1))\n",
    "        b = 0\n",
    "        for a in range(i, i + partition):\n",
    "            X_cv[b] = X[a,:]\n",
    "            y_cv[b] = y[a]\n",
    "            b = b + 1\n",
    "        b = 0\n",
    "        for a in range(0, length):\n",
    "            if a in range(i, i + partition):\n",
    "                continue\n",
    "            X_train[b] = X[a,:]\n",
    "            y_train[b] = y[a]\n",
    "            b = b + 1\n",
    "                \n",
    "        sum = 0\n",
    "\n",
    "        for j in range(0, partition):\n",
    "            example = X_cv[j,:]\n",
    "            distance = np.zeros(12)\n",
    "            for a in range(0, 12):\n",
    "                distance[a] = math.pow(X_train[a,0] - example[0], 2) + math.pow(X_train[a,1] - example[1], 2)\n",
    "       \n",
    "\n",
    "            sorted_class = y_train\n",
    "            \n",
    "            for a in range(0, 12):\n",
    "                for b in range(a, 12):\n",
    "                    if distance[b] > distance[a]:\n",
    "                        distance[b], distance[a] = distance[a], distance[b]\n",
    "                        sorted_class[b], sorted_class[a] = sorted_class[a], sorted_class[b]\n",
    "\n",
    "            votes = np.unique(sorted_class[:K,0], return_counts=True)\n",
    "            temp = np.array(votes[1])\n",
    "            max_count_index = temp.argmax()\n",
    "            belong = votes[0][max_count_index]\n",
    "            \n",
    "            \n",
    "            if(belong == y_cv[j]):\n",
    "                sum = sum + 1\n",
    "\n",
    "        sum_acc = sum_acc + sum/(partition)\n",
    "    result = sum_acc/(length/partition)\n",
    "    print(\"Ac\",result)\n",
    "    accuracies[k-1] = result  "
   ]
  },
  {
   "cell_type": "code",
   "execution_count": 19,
   "metadata": {
    "scrolled": false
   },
   "outputs": [
    {
     "data": {
      "text/plain": [
       "<matplotlib.legend.Legend at 0x7f7127d3f710>"
      ]
     },
     "execution_count": 19,
     "metadata": {},
     "output_type": "execute_result"
    },
    {
     "data": {
      "image/png": "[encoded data removed]",
      "text/plain": [
       "<matplotlib.figure.Figure at 0x7f7127d3f048>"
      ]
     },
     "metadata": {},
     "output_type": "display_data"
    }
   ],
   "source": [
    "plt.figure(figsize=(12,8))\n",
    "plt.plot(accuracies)\n",
    "plt.legend(['Validation accuracy'])"
   ]
  },
  {
   "cell_type": "code",
   "execution_count": 25,
   "metadata": {},
   "outputs": [
    {
     "data": {
      "text/plain": [
       "array([[ 1.],\n",
       "       [ 2.],\n",
       "       [ 3.],\n",
       "       [ 1.],\n",
       "       [ 2.],\n",
       "       [ 3.],\n",
       "       [ 1.]])"
      ]
     },
     "execution_count": 25,
     "metadata": {},
     "output_type": "execute_result"
    }
   ],
   "source": [
    "sorted_class[:K]"
   ]
  }
 ],
 "metadata": {
  "kernelspec": {
   "display_name": "Python 3",
   "language": "python",
   "name": "python3"
  },
  "language_info": {
   "codemirror_mode": {
    "name": "ipython",
    "version": 3
   },
   "file_extension": ".py",
   "mimetype": "text/x-python",
   "name": "python",
   "nbconvert_exporter": "python",
   "pygments_lexer": "ipython3",
   "version": "3.6.3"
  }
 },
 "nbformat": 4,
 "nbformat_minor": 2
}
