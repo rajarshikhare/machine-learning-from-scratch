{
 "cells": [
  {
   "cell_type": "code",
   "execution_count": 294,
   "metadata": {
    "collapsed": true
   },
   "outputs": [],
   "source": [
    "import numpy as np\n",
    "import pandas as pd\n",
    "import matplotlib.pyplot as plt\n",
    "%matplotlib inline"
   ]
  },
  {
   "cell_type": "code",
   "execution_count": 295,
   "metadata": {
    "collapsed": true
   },
   "outputs": [],
   "source": [
    "data = pd.read_csv(\"ex2data2.txt\", names=('X1', 'X2', 'y'))"
   ]
  },
  {
   "cell_type": "code",
   "execution_count": 296,
   "metadata": {},
   "outputs": [
    {
     "data": {
      "text/html": [
       "<div>\n",
       "<style>\n",
       "    .dataframe thead tr:only-child th {\n",
       "        text-align: right;\n",
       "    }\n",
       "\n",
       "    .dataframe thead th {\n",
       "        text-align: left;\n",
       "    }\n",
       "\n",
       "    .dataframe tbody tr th {\n",
       "        vertical-align: top;\n",
       "    }\n",
       "</style>\n",
       "<table border=\"1\" class=\"dataframe\">\n",
       "  <thead>\n",
       "    <tr style=\"text-align: right;\">\n",
       "      <th></th>\n",
       "      <th>X1</th>\n",
       "      <th>X2</th>\n",
       "      <th>y</th>\n",
       "    </tr>\n",
       "  </thead>\n",
       "  <tbody>\n",
       "    <tr>\n",
       "      <th>0</th>\n",
       "      <td>0.051267</td>\n",
       "      <td>0.69956</td>\n",
       "      <td>1</td>\n",
       "    </tr>\n",
       "    <tr>\n",
       "      <th>1</th>\n",
       "      <td>-0.092742</td>\n",
       "      <td>0.68494</td>\n",
       "      <td>1</td>\n",
       "    </tr>\n",
       "    <tr>\n",
       "      <th>2</th>\n",
       "      <td>-0.213710</td>\n",
       "      <td>0.69225</td>\n",
       "      <td>1</td>\n",
       "    </tr>\n",
       "    <tr>\n",
       "      <th>3</th>\n",
       "      <td>-0.375000</td>\n",
       "      <td>0.50219</td>\n",
       "      <td>1</td>\n",
       "    </tr>\n",
       "    <tr>\n",
       "      <th>4</th>\n",
       "      <td>-0.513250</td>\n",
       "      <td>0.46564</td>\n",
       "      <td>1</td>\n",
       "    </tr>\n",
       "  </tbody>\n",
       "</table>\n",
       "</div>"
      ],
      "text/plain": [
       "         X1       X2  y\n",
       "0  0.051267  0.69956  1\n",
       "1 -0.092742  0.68494  1\n",
       "2 -0.213710  0.69225  1\n",
       "3 -0.375000  0.50219  1\n",
       "4 -0.513250  0.46564  1"
      ]
     },
     "execution_count": 296,
     "metadata": {},
     "output_type": "execute_result"
    }
   ],
   "source": [
    "data.head()"
   ]
  },
  {
   "cell_type": "code",
   "execution_count": 297,
   "metadata": {},
   "outputs": [
    {
     "data": {
      "text/plain": [
       "<matplotlib.axes._subplots.AxesSubplot at 0x20a7bb8cac8>"
      ]
     },
     "execution_count": 297,
     "metadata": {},
     "output_type": "execute_result"
    },
    {
     "data": {
      "image/png": "[encoded data removed]",
      "text/plain": [
       "<matplotlib.figure.Figure at 0x20a7bb55a90>"
      ]
     },
     "metadata": {},
     "output_type": "display_data"
    }
   ],
   "source": [
    "data.plot.scatter(x ='X1', y = 'X2', c = 'y', cmap = 'coolwarm', figsize = (12, 8))"
   ]
  },
  {
   "cell_type": "code",
   "execution_count": 298,
   "metadata": {
    "collapsed": true
   },
   "outputs": [],
   "source": [
    "data.insert(0, 'ones', 1)\n",
    "X = np.array(data.iloc[:,0:data.shape[1] - 1])\n",
    "y = np.array(data.iloc[:,data.shape[1] - 1])"
   ]
  },
  {
   "cell_type": "code",
   "execution_count": 299,
   "metadata": {},
   "outputs": [
    {
     "data": {
      "text/html": [
       "<div>\n",
       "<style>\n",
       "    .dataframe thead tr:only-child th {\n",
       "        text-align: right;\n",
       "    }\n",
       "\n",
       "    .dataframe thead th {\n",
       "        text-align: left;\n",
       "    }\n",
       "\n",
       "    .dataframe tbody tr th {\n",
       "        vertical-align: top;\n",
       "    }\n",
       "</style>\n",
       "<table border=\"1\" class=\"dataframe\">\n",
       "  <thead>\n",
       "    <tr style=\"text-align: right;\">\n",
       "      <th></th>\n",
       "      <th>ones</th>\n",
       "      <th>X1</th>\n",
       "      <th>X2</th>\n",
       "      <th>y</th>\n",
       "    </tr>\n",
       "  </thead>\n",
       "  <tbody>\n",
       "    <tr>\n",
       "      <th>0</th>\n",
       "      <td>1</td>\n",
       "      <td>0.051267</td>\n",
       "      <td>0.69956</td>\n",
       "      <td>1</td>\n",
       "    </tr>\n",
       "    <tr>\n",
       "      <th>1</th>\n",
       "      <td>1</td>\n",
       "      <td>-0.092742</td>\n",
       "      <td>0.68494</td>\n",
       "      <td>1</td>\n",
       "    </tr>\n",
       "    <tr>\n",
       "      <th>2</th>\n",
       "      <td>1</td>\n",
       "      <td>-0.213710</td>\n",
       "      <td>0.69225</td>\n",
       "      <td>1</td>\n",
       "    </tr>\n",
       "    <tr>\n",
       "      <th>3</th>\n",
       "      <td>1</td>\n",
       "      <td>-0.375000</td>\n",
       "      <td>0.50219</td>\n",
       "      <td>1</td>\n",
       "    </tr>\n",
       "    <tr>\n",
       "      <th>4</th>\n",
       "      <td>1</td>\n",
       "      <td>-0.513250</td>\n",
       "      <td>0.46564</td>\n",
       "      <td>1</td>\n",
       "    </tr>\n",
       "  </tbody>\n",
       "</table>\n",
       "</div>"
      ],
      "text/plain": [
       "   ones        X1       X2  y\n",
       "0     1  0.051267  0.69956  1\n",
       "1     1 -0.092742  0.68494  1\n",
       "2     1 -0.213710  0.69225  1\n",
       "3     1 -0.375000  0.50219  1\n",
       "4     1 -0.513250  0.46564  1"
      ]
     },
     "execution_count": 299,
     "metadata": {},
     "output_type": "execute_result"
    }
   ],
   "source": [
    "data.head()"
   ]
  },
  {
   "cell_type": "code",
   "execution_count": 300,
   "metadata": {
    "collapsed": true
   },
   "outputs": [],
   "source": [
    "for i in range(2, 9):\n",
    "    for j in range(i+1):\n",
    "        data['X1^' + str(i-j) + 'X2^' + str(j)] = np.power(data.iloc[:,1], i-j) * np.power(data.iloc[:,2], j)"
   ]
  },
  {
   "cell_type": "code",
   "execution_count": 301,
   "metadata": {},
   "outputs": [
    {
     "data": {
      "text/plain": [
       "array([ 1.      ,  0.051267,  0.69956 ])"
      ]
     },
     "execution_count": 301,
     "metadata": {},
     "output_type": "execute_result"
    }
   ],
   "source": [
    "X[0]"
   ]
  },
  {
   "cell_type": "code",
   "execution_count": 302,
   "metadata": {},
   "outputs": [
    {
     "data": {
      "text/html": [
       "<div>\n",
       "<style>\n",
       "    .dataframe thead tr:only-child th {\n",
       "        text-align: right;\n",
       "    }\n",
       "\n",
       "    .dataframe thead th {\n",
       "        text-align: left;\n",
       "    }\n",
       "\n",
       "    .dataframe tbody tr th {\n",
       "        vertical-align: top;\n",
       "    }\n",
       "</style>\n",
       "<table border=\"1\" class=\"dataframe\">\n",
       "  <thead>\n",
       "    <tr style=\"text-align: right;\">\n",
       "      <th></th>\n",
       "      <th>ones</th>\n",
       "      <th>X1</th>\n",
       "      <th>X2</th>\n",
       "      <th>y</th>\n",
       "      <th>X1^2X2^0</th>\n",
       "      <th>X1^1X2^1</th>\n",
       "      <th>X1^0X2^2</th>\n",
       "      <th>X1^3X2^0</th>\n",
       "      <th>X1^2X2^1</th>\n",
       "      <th>X1^1X2^2</th>\n",
       "      <th>...</th>\n",
       "      <th>X1^0X2^7</th>\n",
       "      <th>X1^8X2^0</th>\n",
       "      <th>X1^7X2^1</th>\n",
       "      <th>X1^6X2^2</th>\n",
       "      <th>X1^5X2^3</th>\n",
       "      <th>X1^4X2^4</th>\n",
       "      <th>X1^3X2^5</th>\n",
       "      <th>X1^2X2^6</th>\n",
       "      <th>X1^1X2^7</th>\n",
       "      <th>X1^0X2^8</th>\n",
       "    </tr>\n",
       "  </thead>\n",
       "  <tbody>\n",
       "    <tr>\n",
       "      <th>0</th>\n",
       "      <td>1</td>\n",
       "      <td>0.051267</td>\n",
       "      <td>0.69956</td>\n",
       "      <td>1</td>\n",
       "      <td>0.002628</td>\n",
       "      <td>0.035864</td>\n",
       "      <td>0.489384</td>\n",
       "      <td>0.000135</td>\n",
       "      <td>0.001839</td>\n",
       "      <td>0.025089</td>\n",
       "      <td>...</td>\n",
       "      <td>0.081993</td>\n",
       "      <td>4.772031e-11</td>\n",
       "      <td>6.511639e-10</td>\n",
       "      <td>8.885408e-09</td>\n",
       "      <td>1.212452e-07</td>\n",
       "      <td>0.000002</td>\n",
       "      <td>0.000023</td>\n",
       "      <td>0.000308</td>\n",
       "      <td>0.004204</td>\n",
       "      <td>0.057359</td>\n",
       "    </tr>\n",
       "    <tr>\n",
       "      <th>1</th>\n",
       "      <td>1</td>\n",
       "      <td>-0.092742</td>\n",
       "      <td>0.68494</td>\n",
       "      <td>1</td>\n",
       "      <td>0.008601</td>\n",
       "      <td>-0.063523</td>\n",
       "      <td>0.469143</td>\n",
       "      <td>-0.000798</td>\n",
       "      <td>0.005891</td>\n",
       "      <td>-0.043509</td>\n",
       "      <td>...</td>\n",
       "      <td>0.070724</td>\n",
       "      <td>5.472826e-09</td>\n",
       "      <td>-4.041920e-08</td>\n",
       "      <td>2.985134e-07</td>\n",
       "      <td>-2.204651e-06</td>\n",
       "      <td>0.000016</td>\n",
       "      <td>-0.000120</td>\n",
       "      <td>0.000888</td>\n",
       "      <td>-0.006559</td>\n",
       "      <td>0.048442</td>\n",
       "    </tr>\n",
       "    <tr>\n",
       "      <th>2</th>\n",
       "      <td>1</td>\n",
       "      <td>-0.213710</td>\n",
       "      <td>0.69225</td>\n",
       "      <td>1</td>\n",
       "      <td>0.045672</td>\n",
       "      <td>-0.147941</td>\n",
       "      <td>0.479210</td>\n",
       "      <td>-0.009761</td>\n",
       "      <td>0.031616</td>\n",
       "      <td>-0.102412</td>\n",
       "      <td>...</td>\n",
       "      <td>0.076180</td>\n",
       "      <td>4.351097e-06</td>\n",
       "      <td>-1.409408e-05</td>\n",
       "      <td>4.565360e-05</td>\n",
       "      <td>-1.478813e-04</td>\n",
       "      <td>0.000479</td>\n",
       "      <td>-0.001552</td>\n",
       "      <td>0.005026</td>\n",
       "      <td>-0.016280</td>\n",
       "      <td>0.052736</td>\n",
       "    </tr>\n",
       "    <tr>\n",
       "      <th>3</th>\n",
       "      <td>1</td>\n",
       "      <td>-0.375000</td>\n",
       "      <td>0.50219</td>\n",
       "      <td>1</td>\n",
       "      <td>0.140625</td>\n",
       "      <td>-0.188321</td>\n",
       "      <td>0.252195</td>\n",
       "      <td>-0.052734</td>\n",
       "      <td>0.070620</td>\n",
       "      <td>-0.094573</td>\n",
       "      <td>...</td>\n",
       "      <td>0.008055</td>\n",
       "      <td>3.910661e-04</td>\n",
       "      <td>-5.237053e-04</td>\n",
       "      <td>7.013321e-04</td>\n",
       "      <td>-9.392053e-04</td>\n",
       "      <td>0.001258</td>\n",
       "      <td>-0.001684</td>\n",
       "      <td>0.002256</td>\n",
       "      <td>-0.003021</td>\n",
       "      <td>0.004045</td>\n",
       "    </tr>\n",
       "    <tr>\n",
       "      <th>4</th>\n",
       "      <td>1</td>\n",
       "      <td>-0.513250</td>\n",
       "      <td>0.46564</td>\n",
       "      <td>1</td>\n",
       "      <td>0.263426</td>\n",
       "      <td>-0.238990</td>\n",
       "      <td>0.216821</td>\n",
       "      <td>-0.135203</td>\n",
       "      <td>0.122661</td>\n",
       "      <td>-0.111283</td>\n",
       "      <td>...</td>\n",
       "      <td>0.004746</td>\n",
       "      <td>4.815392e-03</td>\n",
       "      <td>-4.368708e-03</td>\n",
       "      <td>3.963458e-03</td>\n",
       "      <td>-3.595801e-03</td>\n",
       "      <td>0.003262</td>\n",
       "      <td>-0.002960</td>\n",
       "      <td>0.002685</td>\n",
       "      <td>-0.002436</td>\n",
       "      <td>0.002210</td>\n",
       "    </tr>\n",
       "  </tbody>\n",
       "</table>\n",
       "<p>5 rows × 46 columns</p>\n",
       "</div>"
      ],
      "text/plain": [
       "   ones        X1       X2  y  X1^2X2^0  X1^1X2^1  X1^0X2^2  X1^3X2^0  \\\n",
       "0     1  0.051267  0.69956  1  0.002628  0.035864  0.489384  0.000135   \n",
       "1     1 -0.092742  0.68494  1  0.008601 -0.063523  0.469143 -0.000798   \n",
       "2     1 -0.213710  0.69225  1  0.045672 -0.147941  0.479210 -0.009761   \n",
       "3     1 -0.375000  0.50219  1  0.140625 -0.188321  0.252195 -0.052734   \n",
       "4     1 -0.513250  0.46564  1  0.263426 -0.238990  0.216821 -0.135203   \n",
       "\n",
       "   X1^2X2^1  X1^1X2^2    ...     X1^0X2^7      X1^8X2^0      X1^7X2^1  \\\n",
       "0  0.001839  0.025089    ...     0.081993  4.772031e-11  6.511639e-10   \n",
       "1  0.005891 -0.043509    ...     0.070724  5.472826e-09 -4.041920e-08   \n",
       "2  0.031616 -0.102412    ...     0.076180  4.351097e-06 -1.409408e-05   \n",
       "3  0.070620 -0.094573    ...     0.008055  3.910661e-04 -5.237053e-04   \n",
       "4  0.122661 -0.111283    ...     0.004746  4.815392e-03 -4.368708e-03   \n",
       "\n",
       "       X1^6X2^2      X1^5X2^3  X1^4X2^4  X1^3X2^5  X1^2X2^6  X1^1X2^7  \\\n",
       "0  8.885408e-09  1.212452e-07  0.000002  0.000023  0.000308  0.004204   \n",
       "1  2.985134e-07 -2.204651e-06  0.000016 -0.000120  0.000888 -0.006559   \n",
       "2  4.565360e-05 -1.478813e-04  0.000479 -0.001552  0.005026 -0.016280   \n",
       "3  7.013321e-04 -9.392053e-04  0.001258 -0.001684  0.002256 -0.003021   \n",
       "4  3.963458e-03 -3.595801e-03  0.003262 -0.002960  0.002685 -0.002436   \n",
       "\n",
       "   X1^0X2^8  \n",
       "0  0.057359  \n",
       "1  0.048442  \n",
       "2  0.052736  \n",
       "3  0.004045  \n",
       "4  0.002210  \n",
       "\n",
       "[5 rows x 46 columns]"
      ]
     },
     "execution_count": 302,
     "metadata": {},
     "output_type": "execute_result"
    }
   ],
   "source": [
    "data.head()"
   ]
  },
  {
   "cell_type": "code",
   "execution_count": 303,
   "metadata": {},
   "outputs": [],
   "source": [
    "y = data.iloc[:,3:4]\n",
    "y = np.array(y)\n",
    "data = data.drop('y', axis = 1)\n",
    "X = data.values\n",
    "initial_theta = np.zeros(X.shape[1])"
   ]
  },
  {
   "cell_type": "code",
   "execution_count": 304,
   "metadata": {},
   "outputs": [
    {
     "data": {
      "text/plain": [
       "array([ 0.,  0.,  0.,  0.,  0.,  0.,  0.,  0.,  0.,  0.,  0.,  0.,  0.,\n",
       "        0.,  0.,  0.,  0.,  0.,  0.,  0.,  0.,  0.,  0.,  0.,  0.,  0.,\n",
       "        0.,  0.,  0.,  0.,  0.,  0.,  0.,  0.,  0.,  0.,  0.,  0.,  0.,\n",
       "        0.,  0.,  0.,  0.,  0.,  0.])"
      ]
     },
     "execution_count": 304,
     "metadata": {},
     "output_type": "execute_result"
    }
   ],
   "source": [
    "initial_theta"
   ]
  },
  {
   "cell_type": "code",
   "execution_count": 305,
   "metadata": {
    "collapsed": true
   },
   "outputs": [],
   "source": [
    "def sigmoid(z):\n",
    "    return 1/(1 + np.exp(-z))"
   ]
  },
  {
   "cell_type": "code",
   "execution_count": 306,
   "metadata": {},
   "outputs": [
    {
     "data": {
      "text/plain": [
       "[<matplotlib.lines.Line2D at 0x20a7d267e10>]"
      ]
     },
     "execution_count": 306,
     "metadata": {},
     "output_type": "execute_result"
    },
    {
     "data": {
      "image/png": "[encoded data removed]",
      "text/plain": [
       "<matplotlib.figure.Figure at 0x20a7ad417b8>"
      ]
     },
     "metadata": {},
     "output_type": "display_data"
    }
   ],
   "source": [
    "plt.plot(np.arange(-10, 10), sigmoid(np.arange(-10,10)))"
   ]
  },
  {
   "cell_type": "code",
   "execution_count": 307,
   "metadata": {
    "collapsed": true
   },
   "outputs": [],
   "source": [
    "def gradient(theta, X, y):\n",
    "    theta = np.matrix(theta)\n",
    "    X = np.matrix(X)\n",
    "    y = np.matrix(y)\n",
    "    grad = np.zeros(X.shape[1])\n",
    "    \n",
    "    error = sigmoid(X * theta.T) - y\n",
    "    for i in range(0, X.shape[1]):\n",
    "        term = np.multiply(error, X[:,i])/len(X)\n",
    "        grad[i] = np.sum(term)\n",
    "    return grad"
   ]
  },
  {
   "cell_type": "code",
   "execution_count": 308,
   "metadata": {
    "collapsed": true
   },
   "outputs": [],
   "source": [
    "def cost(theta, X, y):\n",
    "    theta = np.matrix(theta)\n",
    "    X = np.matrix(X)\n",
    "    y = np.matrix(y)\n",
    "    \n",
    "    term1 = np.multiply(-y, np.log(sigmoid(X*theta.T)))\n",
    "    term2 = np.multiply(1-y, np.log(1-sigmoid(X*theta.T)))\n",
    "    calc = np.sum(term1 - term2)\n",
    "    return calc/len(X)"
   ]
  },
  {
   "cell_type": "code",
   "execution_count": 309,
   "metadata": {},
   "outputs": [],
   "source": [
    "import scipy.optimize as opt\n",
    "result = opt.fmin_tnc(func=cost, x0=initial_theta, fprime=gradient, args=(X, y))\n",
    "new_theta = result[0]"
   ]
  },
  {
   "cell_type": "code",
   "execution_count": 310,
   "metadata": {},
   "outputs": [
    {
     "name": "stdout",
     "output_type": "stream",
     "text": [
      "Theta :  [   11.64356594    29.35110571    10.79111183   -86.5676363    -47.72845106\n",
      "   -14.36192676  -161.47523316   -22.0069783   -257.66599418   -14.48473819\n",
      "   185.11501216   553.51299234   288.04163848   -70.25874052   -59.22527708\n",
      "    64.16519954     3.39113838  1205.85907136  -156.31234036   527.9180287\n",
      "    63.23739118   259.09536271 -1806.18891704  -553.06538842   469.68230474\n",
      "     2.88430133  -124.00716564   -14.15193392   410.67668037   302.75677354\n",
      "    24.06263289   685.57297718 -2093.31910143   306.74584602   257.93066482\n",
      "    74.39953861  -993.2946557   1358.52799399    52.92793228 -2055.38054026\n",
      " -1484.63014894   709.3148367   -262.89616983  -394.72290018   -68.1785821 ]\n"
     ]
    }
   ],
   "source": [
    "print(\"Theta : \",new_theta)"
   ]
  },
  {
   "cell_type": "code",
   "execution_count": 311,
   "metadata": {},
   "outputs": [],
   "source": [
    "def predict_error(theta, X, y):\n",
    "    X = np.matrix(X)\n",
    "    theta = np.matrix(theta)\n",
    "    prediction = sigmoid(X * theta.T)\n",
    "    prediction[prediction >= .5]= 1\n",
    "    prediction[prediction < .5]= 0\n",
    "    count = 0\n",
    "    for i in range(0, X.shape[0]):\n",
    "        if y[i] == prediction[i]:\n",
    "            count = count + 1\n",
    "    print('right: total : ',count, X.shape[0])\n",
    "    return (count*100)/X.shape[0]"
   ]
  },
  {
   "cell_type": "code",
   "execution_count": 312,
   "metadata": {},
   "outputs": [
    {
     "name": "stdout",
     "output_type": "stream",
     "text": [
      "right: total :  107 118\n",
      "Accuracy :  90.67796610169492\n"
     ]
    }
   ],
   "source": [
    "print(\"Accuracy : \",predict_error(new_theta, X, y))"
   ]
  },
  {
   "cell_type": "code",
   "execution_count": null,
   "metadata": {
    "collapsed": true
   },
   "outputs": [],
   "source": []
  }
 ],
 "metadata": {
  "kernelspec": {
   "display_name": "Python 3",
   "language": "python",
   "name": "python3"
  },
  "language_info": {
   "codemirror_mode": {
    "name": "ipython",
    "version": 3
   },
   "file_extension": ".py",
   "mimetype": "text/x-python",
   "name": "python",
   "nbconvert_exporter": "python",
   "pygments_lexer": "ipython3",
   "version": "3.6.2"
  }
 },
 "nbformat": 4,
 "nbformat_minor": 2
}
