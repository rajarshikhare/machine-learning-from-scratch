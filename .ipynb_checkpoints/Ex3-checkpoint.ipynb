{
 "cells": [
  {
   "cell_type": "code",
   "execution_count": 238,
   "metadata": {
    "collapsed": true
   },
   "outputs": [],
   "source": [
    "import numpy as np\n",
    "import pandas as pd\n",
    "import matplotlib.pyplot as plt\n",
    "from scipy.io import loadmat\n",
    "%matplotlib inline"
   ]
  },
  {
   "cell_type": "code",
   "execution_count": 239,
   "metadata": {
    "collapsed": true
   },
   "outputs": [],
   "source": [
    "data = loadmat('ex3data1.mat')"
   ]
  },
  {
   "cell_type": "code",
   "execution_count": 240,
   "metadata": {},
   "outputs": [
    {
     "data": {
      "text/plain": [
       "{'X': array([[ 0.,  0.,  0., ...,  0.,  0.,  0.],\n",
       "        [ 0.,  0.,  0., ...,  0.,  0.,  0.],\n",
       "        [ 0.,  0.,  0., ...,  0.,  0.,  0.],\n",
       "        ..., \n",
       "        [ 0.,  0.,  0., ...,  0.,  0.,  0.],\n",
       "        [ 0.,  0.,  0., ...,  0.,  0.,  0.],\n",
       "        [ 0.,  0.,  0., ...,  0.,  0.,  0.]]),\n",
       " '__globals__': [],\n",
       " '__header__': b'MATLAB 5.0 MAT-file, Platform: GLNXA64, Created on: Sun Oct 16 13:09:09 2011',\n",
       " '__version__': '1.0',\n",
       " 'y': array([[10],\n",
       "        [10],\n",
       "        [10],\n",
       "        ..., \n",
       "        [ 9],\n",
       "        [ 9],\n",
       "        [ 9]], dtype=uint8)}"
      ]
     },
     "execution_count": 240,
     "metadata": {},
     "output_type": "execute_result"
    }
   ],
   "source": [
    "data"
   ]
  },
  {
   "cell_type": "code",
   "execution_count": 241,
   "metadata": {
    "collapsed": true
   },
   "outputs": [],
   "source": [
    "X = data['X']\n",
    "y = data['y']\n",
    "y[y == 10] = 0"
   ]
  },
  {
   "cell_type": "markdown",
   "metadata": {},
   "source": [
    "from skimage import io\n",
    "for i in range(1, 6):\n",
    "    file = 'test' + str(i) + '.png'\n",
    "    img = 1 - io.imread(file, as_grey=True)\n",
    "    img1 = img.copy()\n",
    "    for i in range(0, img1.shape[0]):\n",
    "        img[19 - i, :] = img1[i, :]\n",
    "    img = img.ravel()\n",
    "    img  = img.reshape(1, img.shape[0])\n",
    "    X = np.append(X, img , axis=0)\n",
    "    \n",
    "y = np.append(y, [[5],[1],[2],[0],[3]] , axis = 0)\n",
    "    "
   ]
  },
  {
   "cell_type": "code",
   "execution_count": null,
   "metadata": {},
   "outputs": [],
   "source": []
  },
  {
   "cell_type": "code",
   "execution_count": 242,
   "metadata": {},
   "outputs": [
    {
     "data": {
      "text/plain": [
       "(5000, 400)"
      ]
     },
     "execution_count": 242,
     "metadata": {},
     "output_type": "execute_result"
    }
   ],
   "source": [
    "X.shape"
   ]
  },
  {
   "cell_type": "code",
   "execution_count": 243,
   "metadata": {},
   "outputs": [
    {
     "data": {
      "text/plain": [
       "(5000, 1)"
      ]
     },
     "execution_count": 243,
     "metadata": {},
     "output_type": "execute_result"
    }
   ],
   "source": [
    "y.shape"
   ]
  },
  {
   "cell_type": "code",
   "execution_count": 244,
   "metadata": {},
   "outputs": [],
   "source": [
    "y_n = np.zeros(shape = (X.shape[0], 10))\n",
    "for i in range(0, X.shape[0]):\n",
    "    y_n[i, y[i]] = 1"
   ]
  },
  {
   "cell_type": "code",
   "execution_count": 245,
   "metadata": {
    "collapsed": true
   },
   "outputs": [],
   "source": [
    "def sigmoid(z):\n",
    "    return 1 / (1 + np.exp(-z))"
   ]
  },
  {
   "cell_type": "code",
   "execution_count": 246,
   "metadata": {},
   "outputs": [
    {
     "data": {
      "text/plain": [
       "[<matplotlib.lines.Line2D at 0x1ffb274fbe0>]"
      ]
     },
     "execution_count": 246,
     "metadata": {},
     "output_type": "execute_result"
    },
    {
     "data": {
      "image/png": "[encoded data removed]",
      "text/plain": [
       "<matplotlib.figure.Figure at 0x1ffb26dd898>"
      ]
     },
     "metadata": {},
     "output_type": "display_data"
    }
   ],
   "source": [
    "plt.plot(sigmoid(np.array(range(-10, 10))))"
   ]
  },
  {
   "cell_type": "code",
   "execution_count": 247,
   "metadata": {
    "collapsed": true
   },
   "outputs": [],
   "source": [
    "def cost(theta, X, y, lambda_r):\n",
    "    theta = np.matrix(theta)\n",
    "    X = np.matrix(X)\n",
    "    y = np.matrix(y)\n",
    "    m = len(X)\n",
    "    term1 = np.multiply(-y, np.log(sigmoid(X*theta.T)))\n",
    "    term2 = np.multiply(1-y, np.log(1-sigmoid(X*theta.T)))\n",
    "    calc = np.sum(term1 - term2)\n",
    "    reg = (lambda_r/(2 * m)) * np.sum(np.power(theta[0,1:], 2))\n",
    "    return calc/m + reg"
   ]
  },
  {
   "cell_type": "code",
   "execution_count": 248,
   "metadata": {
    "collapsed": true
   },
   "outputs": [],
   "source": [
    "def gradient(theta, X, y, lambda_r):\n",
    "    theta = np.matrix(theta)\n",
    "    X = np.matrix(X)\n",
    "    y = np.matrix(y)\n",
    "    m = len(X)\n",
    "    error = sigmoid(X * theta.T) - y\n",
    "    term = (lambda_r/m)*np.sum(theta[0:1:])\n",
    "    grad = (X.T * error)/m + term\n",
    "    return np.array(grad).ravel()"
   ]
  },
  {
   "cell_type": "code",
   "execution_count": null,
   "metadata": {
    "collapsed": true
   },
   "outputs": [],
   "source": []
  },
  {
   "cell_type": "code",
   "execution_count": 249,
   "metadata": {
    "collapsed": true
   },
   "outputs": [],
   "source": [
    "initial_theta = np.zeros(X.shape[1])\n",
    "learning_rate = 1"
   ]
  },
  {
   "cell_type": "code",
   "execution_count": 250,
   "metadata": {
    "collapsed": true,
    "scrolled": true
   },
   "outputs": [],
   "source": [
    "from scipy.optimize import minimize\n",
    "import scipy.optimize as opt\n",
    "#result = opt.fmin_tnc(func=cost, x0=initial_theta, fprime=gradient, args=(X, y_n[:,i].reshape(y_n.shape[0], 1), learning_rate))\n",
    "new_theta = np.zeros([X.shape[1],10])\n",
    "for i in range(0, 10):\n",
    "    #result = opt.fmin_tnc(func=cost, x0=initial_theta, fprime=gradient, args=(X, y_n[:,i].reshape(y_n.shape[0], 1), learning_rate))\n",
    "    fmin = minimize(fun=cost, x0=initial_theta, args=(X, y_n[:,i].reshape(y_n.shape[0], 1), learning_rate), method='TNC', jac=gradient)\n",
    "    new_theta[:, i] = fmin.x\n",
    "    #new_theta[:, i] = result[0]"
   ]
  },
  {
   "cell_type": "code",
   "execution_count": 251,
   "metadata": {
    "collapsed": true
   },
   "outputs": [],
   "source": [
    "def predict(new_theta, X):\n",
    "    theta = np.matrix(new_theta)\n",
    "    X = np.matrix(X)\n",
    "    \n",
    "    prediction = X * theta\n",
    "    \n",
    "    return prediction"
   ]
  },
  {
   "cell_type": "code",
   "execution_count": 252,
   "metadata": {},
   "outputs": [],
   "source": [
    "p = sigmoid(predict(new_theta, X))"
   ]
  },
  {
   "cell_type": "code",
   "execution_count": null,
   "metadata": {},
   "outputs": [],
   "source": []
  },
  {
   "cell_type": "code",
   "execution_count": 253,
   "metadata": {},
   "outputs": [
    {
     "data": {
      "text/plain": [
       "matrix([[  9.98864199e-01,   1.79546847e-09,   1.62559096e-03, ...,\n",
       "           9.69948401e-05,   2.49010149e-04,   2.09051112e-03],\n",
       "        [  9.98368473e-01,   6.93721269e-08,   5.14404987e-05, ...,\n",
       "           5.93627960e-05,   6.55829386e-07,   3.85169634e-05],\n",
       "        [  9.68666646e-01,   8.24322223e-11,   1.67327189e-04, ...,\n",
       "           6.15386066e-06,   4.12331464e-02,   2.52207750e-03],\n",
       "        ..., \n",
       "        [  2.05977824e-06,   1.93599730e-01,   2.94723760e-03, ...,\n",
       "           1.00592253e-04,   1.04196938e-02,   8.51696776e-01],\n",
       "        [  1.54255199e-06,   5.72156356e-09,   8.77167288e-10, ...,\n",
       "           3.31554387e-04,   1.19705374e-02,   8.17050827e-01],\n",
       "        [  3.00991238e-02,   9.34024471e-11,   6.48603394e-05, ...,\n",
       "           4.83358729e-01,   6.04638858e-02,   4.07492908e-01]])"
      ]
     },
     "execution_count": 253,
     "metadata": {},
     "output_type": "execute_result"
    }
   ],
   "source": [
    "p"
   ]
  },
  {
   "cell_type": "code",
   "execution_count": 254,
   "metadata": {},
   "outputs": [
    {
     "name": "stdout",
     "output_type": "stream",
     "text": [
      "Accuracy :  93.96\n"
     ]
    }
   ],
   "source": [
    "ans = np.array(range(0, X.shape[0]))\n",
    "count = 0\n",
    "for i in range(0, X.shape[0]):\n",
    "    ans[i] = p[i,:].argmax()\n",
    "    if y[i] == ans[i]:\n",
    "        count = count + 1\n",
    "print(\"Accuracy : \",(count*100/X.shape[0]))"
   ]
  },
  {
   "cell_type": "markdown",
   "metadata": {},
   "source": []
  },
  {
   "cell_type": "markdown",
   "metadata": {},
   "source": []
  },
  {
   "cell_type": "code",
   "execution_count": 298,
   "metadata": {},
   "outputs": [],
   "source": [
    "from skimage import io\n",
    "img = 1 - io.imread('test4.png', as_grey=True)\n",
    "img1 = img.copy()\n",
    "for i in range(0, img1.shape[0]):\n",
    "    img[19 - i, :] = img1[i, :]"
   ]
  },
  {
   "cell_type": "code",
   "execution_count": 299,
   "metadata": {},
   "outputs": [
    {
     "data": {
      "text/plain": [
       "<matplotlib.image.AxesImage at 0x1ffb5e1cb70>"
      ]
     },
     "execution_count": 299,
     "metadata": {},
     "output_type": "execute_result"
    },
    {
     "data": {
      "image/png": "[encoded data removed]",
      "text/plain": [
       "<matplotlib.figure.Figure at 0x1ffb5d541d0>"
      ]
     },
     "metadata": {},
     "output_type": "display_data"
    }
   ],
   "source": [
    "plt.imshow(img)"
   ]
  },
  {
   "cell_type": "code",
   "execution_count": 300,
   "metadata": {},
   "outputs": [
    {
     "data": {
      "text/plain": [
       "matrix([[  2.25458084, -19.65546957,  -0.92602741,  -5.65106603,\n",
       "         -10.30818452,  -4.49977206,  -7.72856245, -11.383269  ,\n",
       "           0.79535208,  -5.57309868]])"
      ]
     },
     "execution_count": 300,
     "metadata": {},
     "output_type": "execute_result"
    }
   ],
   "source": [
    "image = np.matrix(img.ravel())\n",
    "predict = image * new_theta\n",
    "predict"
   ]
  },
  {
   "cell_type": "code",
   "execution_count": 301,
   "metadata": {},
   "outputs": [
    {
     "data": {
      "text/plain": [
       "0"
      ]
     },
     "execution_count": 301,
     "metadata": {},
     "output_type": "execute_result"
    }
   ],
   "source": [
    "predict.argmax()"
   ]
  },
  {
   "cell_type": "code",
   "execution_count": 259,
   "metadata": {},
   "outputs": [
    {
     "data": {
      "text/plain": [
       "array([[0],\n",
       "       [0],\n",
       "       [0],\n",
       "       ..., \n",
       "       [9],\n",
       "       [9],\n",
       "       [9]], dtype=uint8)"
      ]
     },
     "execution_count": 259,
     "metadata": {},
     "output_type": "execute_result"
    }
   ],
   "source": [
    "y"
   ]
  },
  {
   "cell_type": "code",
   "execution_count": 260,
   "metadata": {},
   "outputs": [
    {
     "data": {
      "text/plain": [
       "array([6], dtype=uint8)"
      ]
     },
     "execution_count": 260,
     "metadata": {},
     "output_type": "execute_result"
    },
    {
     "data": {
      "image/png": "[encoded data removed]",
      "text/plain": [
       "<matplotlib.figure.Figure at 0x1ffb27a2cc0>"
      ]
     },
     "metadata": {},
     "output_type": "display_data"
    }
   ],
   "source": [
    "no = 3109\n",
    "plt.imshow(X[no,:].reshape(20,20))\n",
    "y[no]"
   ]
  },
  {
   "cell_type": "code",
   "execution_count": 261,
   "metadata": {},
   "outputs": [
    {
     "data": {
      "text/plain": [
       "0"
      ]
     },
     "execution_count": 261,
     "metadata": {},
     "output_type": "execute_result"
    }
   ],
   "source": [
    "p[100,:].argmax()"
   ]
  },
  {
   "cell_type": "code",
   "execution_count": null,
   "metadata": {
    "collapsed": true
   },
   "outputs": [],
   "source": []
  }
 ],
 "metadata": {
  "kernelspec": {
   "display_name": "Python 3",
   "language": "python",
   "name": "python3"
  },
  "language_info": {
   "codemirror_mode": {
    "name": "ipython",
    "version": 3
   },
   "file_extension": ".py",
   "mimetype": "text/x-python",
   "name": "python",
   "nbconvert_exporter": "python",
   "pygments_lexer": "ipython3",
   "version": "3.6.2"
  }
 },
 "nbformat": 4,
 "nbformat_minor": 2
}
