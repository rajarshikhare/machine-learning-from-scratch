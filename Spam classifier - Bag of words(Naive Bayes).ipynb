{
  "cells": [
    {
      "cell_type": "code",
      "source": [
        "import numpy as np\n",
        "import pandas as pd\n",
        "from nltk.tokenize import word_tokenize\n",
        "from nltk.corpus import stopwords\n",
        "from nltk.stem import PorterStemmer\n",
        "import matplotlib.pyplot as plt\n",
        "from math import log, sqrt"
      ],
      "outputs": [],
      "execution_count": 1,
      "metadata": {
        "collapsed": true
      }
    },
    {
      "cell_type": "code",
      "source": [
        "data = pd.read_csv('data/spam.csv', encoding = 'latin-1')"
      ],
      "outputs": [],
      "execution_count": 2,
      "metadata": {
        "collapsed": true
      }
    },
    {
      "cell_type": "code",
      "source": [
        "data = data.drop(['Unnamed: 2', 'Unnamed: 3', 'Unnamed: 4'], axis = 1)"
      ],
      "outputs": [],
      "execution_count": 3,
      "metadata": {
        "collapsed": true
      }
    },
    {
      "cell_type": "code",
      "source": [
        "data = data.rename(columns={'v1':'label', 'v2':'message'})"
      ],
      "outputs": [],
      "execution_count": 4,
      "metadata": {
        "collapsed": true
      }
    },
    {
      "cell_type": "code",
      "source": [
        "data['label'] = data['label'].map({'spam':1, 'ham':0})"
      ],
      "outputs": [],
      "execution_count": 5,
      "metadata": {
        "collapsed": true
      }
    },
    {
      "cell_type": "code",
      "source": [
        "data.head()"
      ],
      "outputs": [
        {
          "output_type": "execute_result",
          "execution_count": 6,
          "data": {
            "text/html": [
              "<div>\n",
              "<style>\n",
              "    .dataframe thead tr:only-child th {\n",
              "        text-align: right;\n",
              "    }\n",
              "\n",
              "    .dataframe thead th {\n",
              "        text-align: left;\n",
              "    }\n",
              "\n",
              "    .dataframe tbody tr th {\n",
              "        vertical-align: top;\n",
              "    }\n",
              "</style>\n",
              "<table border=\"1\" class=\"dataframe\">\n",
              "  <thead>\n",
              "    <tr style=\"text-align: right;\">\n",
              "      <th></th>\n",
              "      <th>label</th>\n",
              "      <th>message</th>\n",
              "    </tr>\n",
              "  </thead>\n",
              "  <tbody>\n",
              "    <tr>\n",
              "      <th>0</th>\n",
              "      <td>0</td>\n",
              "      <td>Go until jurong point, crazy.. Available only ...</td>\n",
              "    </tr>\n",
              "    <tr>\n",
              "      <th>1</th>\n",
              "      <td>0</td>\n",
              "      <td>Ok lar... Joking wif u oni...</td>\n",
              "    </tr>\n",
              "    <tr>\n",
              "      <th>2</th>\n",
              "      <td>1</td>\n",
              "      <td>Free entry in 2 a wkly comp to win FA Cup fina...</td>\n",
              "    </tr>\n",
              "    <tr>\n",
              "      <th>3</th>\n",
              "      <td>0</td>\n",
              "      <td>U dun say so early hor... U c already then say...</td>\n",
              "    </tr>\n",
              "    <tr>\n",
              "      <th>4</th>\n",
              "      <td>0</td>\n",
              "      <td>Nah I don't think he goes to usf, he lives aro...</td>\n",
              "    </tr>\n",
              "  </tbody>\n",
              "</table>\n",
              "</div>"
            ],
            "text/plain": [
              "   label                                            message\n",
              "0      0  Go until jurong point, crazy.. Available only ...\n",
              "1      0                      Ok lar... Joking wif u oni...\n",
              "2      1  Free entry in 2 a wkly comp to win FA Cup fina...\n",
              "3      0  U dun say so early hor... U c already then say...\n",
              "4      0  Nah I don't think he goes to usf, he lives aro..."
            ]
          },
          "metadata": {}
        }
      ],
      "execution_count": 6,
      "metadata": {}
    },
    {
      "cell_type": "code",
      "source": [
        "def process_message(message, lower_case = True, stem = True, stop_words = True, gram = 2):\n",
        "    if lower_case:\n",
        "        message = message.lower()\n",
        "    words = word_tokenize(message)\n",
        "    words = [w for w in words if len(w) > 2]\n",
        "    if gram > 1:\n",
        "        w = []\n",
        "        for i in range(len(words) - gram + 1):\n",
        "            w += [' '.join(words[i:i + gram])]\n",
        "        return w\n",
        "    if stop_words:\n",
        "        sw = stopwords.words('english')\n",
        "        words = [word for word in words if word not in sw]\n",
        "    if stem:\n",
        "        stemmer = PorterStemmer()\n",
        "        words = [stemmer.stem(word) for word in words]   \n",
        "    return words"
      ],
      "outputs": [],
      "execution_count": 7,
      "metadata": {
        "collapsed": true
      }
    },
    {
      "cell_type": "code",
      "source": [
        "messages = data['message']\n",
        "labels = data['label']"
      ],
      "outputs": [],
      "execution_count": 12,
      "metadata": {
        "collapsed": true
      }
    },
    {
      "cell_type": "code",
      "source": [
        "class bow:\n",
        "    \n",
        "    def __init__(self):\n",
        "        print(\"Classifier is bag of Words\")\n",
        "    \n",
        "    def train(self, message, label):\n",
        "        \n",
        "        self.freq_spam = dict([])\n",
        "        self.freq_ham = dict([])\n",
        "        self.total_spam_words = 0\n",
        "        self.total_ham_words = 0\n",
        "        \n",
        "        for sentence in message[label == 1]:\n",
        "            words = process_message(sentence)\n",
        "            for word in words:\n",
        "                if word in self.freq_spam.keys():\n",
        "                    self.freq_spam[word] += 1\n",
        "                else:\n",
        "                    self.freq_spam[word] = 1\n",
        "                self.total_spam_words += 1\n",
        "                \n",
        "        for sentence in message[label == 0]:\n",
        "            words = process_message(sentence)\n",
        "            for word in words:\n",
        "                if word in self.freq_ham.keys():\n",
        "                    self.freq_ham[word] += 1\n",
        "                else:\n",
        "                    self.freq_ham[word] = 1\n",
        "                self.total_ham_words += 1\n",
        "                \n",
        "        self.total_words = self.total_spam_words + self.total_ham_words\n",
        "        print(\"Training Done!\")\n",
        "                \n",
        "    \n",
        "    def predict(self, message):\n",
        "        words = process_message(message)\n",
        "        \n",
        "        p_spam = 1\n",
        "        \n",
        "        for word in words:\n",
        "            p2 = self.total_spam_words / (self.total_spam_words + self.total_ham_words)\n",
        "            if not (word in self.freq_spam.keys()):\n",
        "                self.freq_spam[word] = 0\n",
        "            if not (word in self.freq_ham.keys()):\n",
        "                self.freq_ham[word] = 0\n",
        "            p1 = self.freq_spam[word] / self.total_spam_words\n",
        "            p3 = (self.freq_spam[word] + self.freq_ham[word]) / self.total_words\n",
        "            if p3 == 0:\n",
        "                continue\n",
        "            p_spam *= (p1/p3)    \n",
        "            p_spam *= p2\n",
        "        \n",
        "        p_ham = 1\n",
        "        \n",
        "        for word in words:\n",
        "            p2 = self.total_spam_words / (self.total_spam_words + self.total_ham_words)\n",
        "            p1 = self.freq_ham[word] / self.total_ham_words\n",
        "            p3 = (self.freq_spam[word] + self.freq_ham[word]) / self.total_words\n",
        "            if p3 == 0:\n",
        "                continue\n",
        "            p_ham *= (p1/p3)    \n",
        "            p_ham *= p2\n",
        "              \n",
        "        return 1 if p_spam > p_ham else 0    "
      ],
      "outputs": [],
      "execution_count": 13,
      "metadata": {
        "collapsed": true
      }
    },
    {
      "cell_type": "code",
      "source": [
        "b = bow()"
      ],
      "outputs": [
        {
          "output_type": "stream",
          "name": "stdout",
          "text": [
            "Classifier is bag of Words\n"
          ]
        }
      ],
      "execution_count": 14,
      "metadata": {}
    },
    {
      "cell_type": "code",
      "source": [
        "b.train(message=messages, label=labels)"
      ],
      "outputs": [
        {
          "output_type": "stream",
          "name": "stdout",
          "text": [
            "Training Done!\n"
          ]
        }
      ],
      "execution_count": 15,
      "metadata": {}
    },
    {
      "cell_type": "code",
      "source": [
        "pre = np.zeros((len(labels)))\n",
        "for i  in range(0, len(messages)):\n",
        "    pre[i] = b.predict(messages[i])"
      ],
      "outputs": [],
      "execution_count": 16,
      "metadata": {
        "collapsed": true
      }
    },
    {
      "cell_type": "code",
      "source": [
        "def metrics(labels, predictions):\n",
        "    true_pos, true_neg, false_pos, false_neg = 0, 0, 0, 0\n",
        "    for i in range(len(labels)):\n",
        "        true_pos += int(labels[i] == 1 and predictions[i] == 1)\n",
        "        true_neg += int(labels[i] == 0 and predictions[i] == 0)\n",
        "        false_pos += int(labels[i] == 0 and predictions[i] == 1)\n",
        "        false_neg += int(labels[i] == 1 and predictions[i] == 0)\n",
        "    precision = true_pos / (true_pos + false_pos)\n",
        "    recall = true_pos / (true_pos + false_neg)\n",
        "    Fscore = 2 * precision * recall / (precision + recall)\n",
        "    accuracy = (true_pos + true_neg) / (true_pos + true_neg + false_pos + false_neg)\n",
        "\n",
        "    print(\"Precision: \", precision)\n",
        "    print(\"Recall: \", recall)\n",
        "    print(\"F-score: \", Fscore)\n",
        "    print(\"Accuracy: \", accuracy)"
      ],
      "outputs": [],
      "execution_count": 17,
      "metadata": {
        "collapsed": true
      }
    },
    {
      "cell_type": "code",
      "source": [
        "metrics(labels, pre)"
      ],
      "outputs": [
        {
          "output_type": "stream",
          "name": "stdout",
          "text": [
            "Precision:  0.9946737683089214\n",
            "Recall:  1.0\n",
            "F-score:  0.9973297730307076\n",
            "Accuracy:  0.9992821249102656\n"
          ]
        }
      ],
      "execution_count": 18,
      "metadata": {}
    }
  ],
  "metadata": {
    "kernelspec": {
      "display_name": "Python 3",
      "language": "python",
      "name": "python3"
    },
    "language_info": {
      "codemirror_mode": {
        "name": "ipython",
        "version": 3
      },
      "file_extension": ".py",
      "mimetype": "text/x-python",
      "name": "python",
      "nbconvert_exporter": "python",
      "pygments_lexer": "ipython3",
      "version": "3.6.3"
    },
    "nteract": {
      "version": "0.8.4"
    }
  },
  "nbformat": 4,
  "nbformat_minor": 2
}