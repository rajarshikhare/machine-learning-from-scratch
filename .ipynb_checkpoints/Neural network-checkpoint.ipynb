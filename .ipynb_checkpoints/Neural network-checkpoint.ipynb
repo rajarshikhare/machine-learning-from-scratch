{
 "cells": [
  {
   "cell_type": "markdown",
   "metadata": {},
   "source": [
    "# Neural Network"
   ]
  },
  {
   "cell_type": "code",
   "execution_count": 47,
   "metadata": {
    "collapsed": true
   },
   "outputs": [],
   "source": [
    "import numpy as np\n",
    "from scipy.io import loadmat"
   ]
  },
  {
   "cell_type": "code",
   "execution_count": 48,
   "metadata": {},
   "outputs": [
    {
     "data": {
      "text/plain": [
       "{'X': array([[ 0.,  0.,  0., ...,  0.,  0.,  0.],\n",
       "        [ 0.,  0.,  0., ...,  0.,  0.,  0.],\n",
       "        [ 0.,  0.,  0., ...,  0.,  0.,  0.],\n",
       "        ..., \n",
       "        [ 0.,  0.,  0., ...,  0.,  0.,  0.],\n",
       "        [ 0.,  0.,  0., ...,  0.,  0.,  0.],\n",
       "        [ 0.,  0.,  0., ...,  0.,  0.,  0.]]),\n",
       " '__globals__': [],\n",
       " '__header__': b'MATLAB 5.0 MAT-file, Platform: GLNXA64, Created on: Sun Oct 16 13:09:09 2011',\n",
       " '__version__': '1.0',\n",
       " 'y': array([[10],\n",
       "        [10],\n",
       "        [10],\n",
       "        ..., \n",
       "        [ 9],\n",
       "        [ 9],\n",
       "        [ 9]], dtype=uint8)}"
      ]
     },
     "execution_count": 48,
     "metadata": {},
     "output_type": "execute_result"
    }
   ],
   "source": [
    "data = loadmat('data/ex4data1.mat')\n",
    "data"
   ]
  },
  {
   "cell_type": "code",
   "execution_count": 49,
   "metadata": {},
   "outputs": [],
   "source": [
    "X = data['X']\n",
    "y_t = data['y']"
   ]
  },
  {
   "cell_type": "code",
   "execution_count": 50,
   "metadata": {},
   "outputs": [],
   "source": [
    "num_labels = 10\n",
    "y = np.zeros([y_t.shape[0], num_labels])\n",
    "for i in range(0, y_t.shape[0]):\n",
    "    if y_t[i] == 10:\n",
    "        y_t[i] = 0\n",
    "    y[i, y_t[i]] = 1"
   ]
  },
  {
   "cell_type": "code",
   "execution_count": 51,
   "metadata": {
    "collapsed": true
   },
   "outputs": [],
   "source": [
    "X = np.matrix(X)\n",
    "y = np.matrix(y)"
   ]
  },
  {
   "cell_type": "code",
   "execution_count": 52,
   "metadata": {
    "collapsed": true
   },
   "outputs": [],
   "source": [
    "def sigmoid(z):\n",
    "    return 1 / (1 + np.exp(-z))"
   ]
  },
  {
   "cell_type": "code",
   "execution_count": 53,
   "metadata": {
    "collapsed": true
   },
   "outputs": [],
   "source": [
    "def sigmoid_gradient(z):\n",
    "    return np.multiply(sigmoid(z), (1 - sigmoid(z)))"
   ]
  },
  {
   "cell_type": "code",
   "execution_count": 54,
   "metadata": {
    "collapsed": true
   },
   "outputs": [],
   "source": [
    "def forwardprop(X, theta1, theta2):\n",
    "    a1 = np.insert(X, 0, 1, axis = 1)\n",
    "    z2 = np.matmul(a1, theta1.T)\n",
    "    a2 = sigmoid(z2)\n",
    "    a2 = np.insert(a2, 0, np.ones(X.shape[0]), axis = 1)\n",
    "    z3 = np.matmul(a2, theta2.T)\n",
    "    h = sigmoid(z3)\n",
    "    \n",
    "    return a1, z2, a2, z3, h"
   ]
  },
  {
   "cell_type": "code",
   "execution_count": 55,
   "metadata": {},
   "outputs": [],
   "source": [
    "def backprop(thetas, X, y, learning_rate, hidden_layer_size, input_size, num_labels):\n",
    "    m = X.shape[0]\n",
    "    \n",
    "    theta1 = np.matrix(np.reshape(thetas[:(input_size + 1) * hidden_layer_size], [hidden_layer_size, input_size + 1])) #(401,25)\n",
    "    theta2 = np.matrix(np.reshape(thetas[(input_size + 1) * hidden_layer_size:], [num_labels, hidden_layer_size+1])) #(26,10)\n",
    "    \n",
    "    a1, z2 , a2, z3, h = forwardprop(X, theta1, theta2)\n",
    "    \n",
    "    #cost calculation\n",
    "    term1 = np.multiply(y, np.log(h))\n",
    "    term2 = np.multiply((1-y), np.log(1 - h))\n",
    "    J = -1*np.sum((term1 + term2))/m\n",
    "    \n",
    "    #adding learing rate\n",
    "    J += (learning_rate/(2*m)) * (np.sum(np.power(theta1[:,1:], 2)) + np.sum(np.power(theta2[:,1:], 2)))\n",
    "    \n",
    "    delta1 = np.zeros(theta1.shape) #(25*401)\n",
    "    delta2 = np.zeros(theta2.shape) #(10*26)\n",
    "    \n",
    "    #back propogation\n",
    "    for i in range(0, m):\n",
    "        a_1 = a1[i, :] #(1,401)\n",
    "        z_2 = z2[i, :] #(1,25)\n",
    "        a_2 = a2[i, :] #(1,26)\n",
    "        z_3 = z3[i, :] #(1,10)\n",
    "        h_ = h[i, :]   #(1,10)\n",
    "        \n",
    "        d3 = h_ - y[i, :]  #(1,10)\n",
    "        \n",
    "        z_2 = np.insert(z_2, 0, np.ones(1))    #(1,26)\n",
    "        d2 = np.multiply(np.matmul(theta2.T, d3.T).T, sigmoid_gradient(z_2))  #(26,10) * (10,1) .* (1,26) = (1,26)\n",
    "        \n",
    "        \n",
    "        delta1 = delta1 + np.matmul(d2[0,1:].T, a_1) #(25,1) * (1,401)\n",
    "        delta2 = delta2 + np.matmul(d3.T, a_2)\n",
    "    \n",
    "    delta1 = delta1 / m\n",
    "    delta2 = delta2 / m\n",
    "        \n",
    "    grad = np.concatenate((np.ravel(delta1), np.ravel(delta2)))\n",
    "    \n",
    "    return J, grad\n",
    "    "
   ]
  },
  {
   "cell_type": "code",
   "execution_count": 56,
   "metadata": {},
   "outputs": [],
   "source": [
    "#parameters\n",
    "hidden_layer_size = 25\n",
    "input_size = X.shape[1]\n",
    "num_labels = 10\n",
    "learning_rate = 1\n",
    "\n",
    "\n",
    "#random initialization of theta1 and theta2\n",
    "thetas = (np.random.random(size=hidden_layer_size * (input_size + 1) + num_labels * (hidden_layer_size + 1)) - 0.5) * 0.25\n"
   ]
  },
  {
   "cell_type": "code",
   "execution_count": 57,
   "metadata": {
    "scrolled": false
   },
   "outputs": [],
   "source": [
    "from scipy.optimize import minimize\n",
    "\n",
    "optm_result = minimize(fun=backprop, x0=thetas, args=(X, y, learning_rate, hidden_layer_size, input_size, num_labels), \\\n",
    "                       method='TNC', jac=True, options={'maxiter': 250})"
   ]
  },
  {
   "cell_type": "code",
   "execution_count": 58,
   "metadata": {},
   "outputs": [
    {
     "data": {
      "text/plain": [
       "     fun: 0.44655023087707679\n",
       "     jac: array([-0.00292974,  0.        ,  0.        , ...,  0.00093989,\n",
       "       -0.00028272,  0.00015913])\n",
       " message: 'Max. number of function evaluations reached'\n",
       "    nfev: 250\n",
       "     nit: 17\n",
       "  status: 3\n",
       " success: False\n",
       "       x: array([ 0.0558283 ,  0.03076222, -0.07714936, ..., -3.55019847,\n",
       "        0.91989283,  1.17291868])"
      ]
     },
     "execution_count": 58,
     "metadata": {},
     "output_type": "execute_result"
    }
   ],
   "source": [
    "optm_result"
   ]
  },
  {
   "cell_type": "code",
   "execution_count": 59,
   "metadata": {},
   "outputs": [
    {
     "name": "stdout",
     "output_type": "stream",
     "text": [
      "Accuracy :  98.52\n"
     ]
    }
   ],
   "source": [
    "thetas = optm_result['x']\n",
    "\n",
    "theta1 = np.matrix(np.reshape(thetas[:(input_size + 1) * hidden_layer_size], [hidden_layer_size, input_size + 1])) #(401,25)\n",
    "theta2 = np.matrix(np.reshape(thetas[(input_size + 1) * hidden_layer_size:], [num_labels, hidden_layer_size+1])) #(26,10)\n",
    "\n",
    "a1, z2 , a2, z3, h = forwardprop(X, theta1, theta2)\n",
    "\n",
    "ans = np.array(range(0, X.shape[0]))\n",
    "count = 0\n",
    "for i in range(0, X.shape[0]):\n",
    "    ans[i] = h[i,:].argmax()\n",
    "    if y_t[i] == ans[i]:\n",
    "        count = count + 1\n",
    "print(\"Accuracy : \",(count*100/X.shape[0]))"
   ]
  }
 ],
 "metadata": {
  "kernelspec": {
   "display_name": "Python 3",
   "language": "python",
   "name": "python3"
  },
  "language_info": {
   "codemirror_mode": {
    "name": "ipython",
    "version": 3
   },
   "file_extension": ".py",
   "mimetype": "text/x-python",
   "name": "python",
   "nbconvert_exporter": "python",
   "pygments_lexer": "ipython3",
   "version": "3.6.2"
  }
 },
 "nbformat": 4,
 "nbformat_minor": 2
}
