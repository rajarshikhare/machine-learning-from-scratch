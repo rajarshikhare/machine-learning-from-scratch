{
 "cells": [
  {
   "cell_type": "code",
   "execution_count": 1,
   "metadata": {},
   "outputs": [],
   "source": [
    "import numpy as np\n",
    "import matplotlib.pyplot as plt\n",
    "%matplotlib inline"
   ]
  },
  {
   "cell_type": "code",
   "execution_count": 2,
   "metadata": {},
   "outputs": [],
   "source": [
    "X = np.array([[1, 1], [1, -1], [-1, 1], [-1, -1]])\n",
    "T = np.array([1, 1, 1, -1])"
   ]
  },
  {
   "cell_type": "code",
   "execution_count": 3,
   "metadata": {},
   "outputs": [],
   "source": [
    "def addBias(X):\n",
    "    return np.insert(X, 0, 1, axis=1)"
   ]
  },
  {
   "cell_type": "code",
   "execution_count": 4,
   "metadata": {},
   "outputs": [],
   "source": [
    "def activation(yin):\n",
    "     return yin"
   ]
  },
  {
   "cell_type": "code",
   "execution_count": 5,
   "metadata": {},
   "outputs": [],
   "source": [
    "def getError(X, T, W):\n",
    "    tmp = (X * W).sum(axis=1)\n",
    "    tmp = activation(tmp)\n",
    "    tmp = ((tmp - T)**2).sum()\n",
    "    return np.sqrt(tmp)"
   ]
  },
  {
   "cell_type": "code",
   "execution_count": 6,
   "metadata": {},
   "outputs": [],
   "source": [
    "def train(X, T, W, epoch, learning_rate, threshold):\n",
    "    \n",
    "    error = []\n",
    "    for i in range(0, epoch):\n",
    "        heighest_weight_change = 0;\n",
    "        for j in range(0, len(X)):\n",
    "            yin = (W * X[j]).sum()\n",
    "            yout = activation(yin)\n",
    "            \n",
    "            W = W + learning_rate*(T[j] - yout)*X[j]\n",
    "        \n",
    "        e = getError(X, T, W)\n",
    "        error.append(e)\n",
    "        \n",
    "        if e == 0:\n",
    "            return W, error, ('Epoch required : ' + str(i))\n",
    "        \n",
    "    return W, error, 'Epoch reached limit : ' + str(epoch)"
   ]
  },
  {
   "cell_type": "code",
   "execution_count": 7,
   "metadata": {},
   "outputs": [],
   "source": [
    "X = addBias(X)\n",
    "W = .1*np.ones(X.shape[1])"
   ]
  },
  {
   "cell_type": "code",
   "execution_count": 8,
   "metadata": {},
   "outputs": [
    {
     "name": "stdout",
     "output_type": "stream",
     "text": [
      "Epoch reached limit : 10\n",
      "[0.4956321  0.52567563 0.55571984]\n"
     ]
    }
   ],
   "source": [
    "threshold = 1\n",
    "learning_rate = .1\n",
    "epoch = 10\n",
    "W , error, message = train(X, T, W, epoch, learning_rate, threshold)\n",
    "print(message)\n",
    "print(W)"
   ]
  },
  {
   "cell_type": "code",
   "execution_count": 9,
   "metadata": {},
   "outputs": [
    {
     "data": {
      "text/plain": [
       "[<matplotlib.lines.Line2D at 0x7fee1ded51d0>]"
      ]
     },
     "execution_count": 9,
     "metadata": {},
     "output_type": "execute_result"
    },
    {
     "data": {
      "image/png": "[encoded data removed]",
      "text/plain": [
       "<Figure size 576x432 with 1 Axes>"
      ]
     },
     "metadata": {},
     "output_type": "display_data"
    }
   ],
   "source": [
    "plt.figure(figsize=(8,6))\n",
    "plt.plot(error)"
   ]
  }
 ],
 "metadata": {
  "kernelspec": {
   "display_name": "Python 3",
   "language": "python",
   "name": "python3"
  },
  "language_info": {
   "codemirror_mode": {
    "name": "ipython",
    "version": 3
   },
   "file_extension": ".py",
   "mimetype": "text/x-python",
   "name": "python",
   "nbconvert_exporter": "python",
   "pygments_lexer": "ipython3",
   "version": "3.6.6"
  }
 },
 "nbformat": 4,
 "nbformat_minor": 2
}
